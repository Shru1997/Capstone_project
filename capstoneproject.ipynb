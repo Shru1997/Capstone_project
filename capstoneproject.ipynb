{
 "cells": [
  {
   "cell_type": "code",
   "execution_count": 23,
   "metadata": {},
   "outputs": [],
   "source": [
    "#The entry point to programming Spark with the Dataset and DataFrame API.\n",
    "from pyspark.sql import SparkSession\n",
    "spark = (SparkSession.builder.appName(\"project\").config(\"hive.metastore.uris\",\"thrift://ip-10-1-2-24.ap-south-1.compute.internal:9083\").enableHiveSupport().getOrCreate())\n",
    "    "
   ]
  },
  {
   "cell_type": "code",
   "execution_count": 24,
   "metadata": {},
   "outputs": [
    {
     "data": {
      "text/html": [
       "\n",
       "            <div>\n",
       "                <p><b>SparkSession - hive</b></p>\n",
       "                \n",
       "        <div>\n",
       "            <p><b>SparkContext</b></p>\n",
       "\n",
       "            <p><a href=\"http://ip-10-1-1-204.ap-south-1.compute.internal:43028\">Spark UI</a></p>\n",
       "\n",
       "            <dl>\n",
       "              <dt>Version</dt>\n",
       "                <dd><code>v2.4.0</code></dd>\n",
       "              <dt>Master</dt>\n",
       "                <dd><code>local[*]</code></dd>\n",
       "              <dt>AppName</dt>\n",
       "                <dd><code>project</code></dd>\n",
       "            </dl>\n",
       "        </div>\n",
       "        \n",
       "            </div>\n",
       "        "
      ],
      "text/plain": [
       "<pyspark.sql.session.SparkSession at 0x7f7c844e6790>"
      ]
     },
     "execution_count": 24,
     "metadata": {},
     "output_type": "execute_result"
    }
   ],
   "source": [
    "spark"
   ]
  },
  {
   "cell_type": "code",
   "execution_count": 25,
   "metadata": {},
   "outputs": [],
   "source": [
    "import pyspark.sql.functions as F                  #List of built-in functions available for DataFrame.\n",
    "import matplotlib.pyplot as plt                    #plotting the graph"
   ]
  },
  {
   "cell_type": "code",
   "execution_count": 26,
   "metadata": {},
   "outputs": [
    {
     "name": "stdout",
     "output_type": "stream",
     "text": [
      "+--------+------------------+\n",
      "|title_id|             title|\n",
      "+--------+------------------+\n",
      "|   e0001|Assistant Engineer|\n",
      "|   e0002|          Engineer|\n",
      "|   e0003|   Senior Engineer|\n",
      "|   e0004|  Technique Leader|\n",
      "|   m0001|           Manager|\n",
      "|   s0001|             Staff|\n",
      "|   s0002|      Senior Staff|\n",
      "+--------+------------------+\n",
      "\n"
     ]
    }
   ],
   "source": [
    "spark.sql(\"select * from anabig114216.titles\").show()"
   ]
  },
  {
   "cell_type": "code",
   "execution_count": 27,
   "metadata": {},
   "outputs": [
    {
     "name": "stdout",
     "output_type": "stream",
     "text": [
      "+-------+------+\n",
      "|dept_no|emp_no|\n",
      "+-------+------+\n",
      "|   d001|110022|\n",
      "|   d001|110039|\n",
      "|   d002|110085|\n",
      "|   d002|110114|\n",
      "|   d003|110183|\n",
      "|   d003|110228|\n",
      "|   d004|110303|\n",
      "|   d004|110344|\n",
      "|   d004|110386|\n",
      "|   d004|110420|\n",
      "|   d005|110511|\n",
      "|   d005|110567|\n",
      "|   d006|110725|\n",
      "|   d006|110765|\n",
      "|   d006|110800|\n",
      "|   d006|110854|\n",
      "|   d007|111035|\n",
      "|   d007|111133|\n",
      "|   d008|111400|\n",
      "|   d008|111534|\n",
      "+-------+------+\n",
      "only showing top 20 rows\n",
      "\n"
     ]
    }
   ],
   "source": [
    "spark.sql(\"select * from anabig114216.dept_manager\").show()"
   ]
  },
  {
   "cell_type": "code",
   "execution_count": 28,
   "metadata": {},
   "outputs": [
    {
     "name": "stdout",
     "output_type": "stream",
     "text": [
      "+------+-------+\n",
      "|emp_no|dept_no|\n",
      "+------+-------+\n",
      "| 10001|   d005|\n",
      "| 10002|   d007|\n",
      "| 10003|   d004|\n",
      "| 10004|   d004|\n",
      "| 10005|   d003|\n",
      "| 10006|   d005|\n",
      "| 10007|   d008|\n",
      "| 10008|   d005|\n",
      "| 10009|   d006|\n",
      "| 10010|   d004|\n",
      "| 10010|   d006|\n",
      "| 10011|   d009|\n",
      "| 10012|   d005|\n",
      "| 10013|   d003|\n",
      "| 10014|   d005|\n",
      "| 10015|   d008|\n",
      "| 10016|   d007|\n",
      "| 10017|   d001|\n",
      "| 10018|   d004|\n",
      "| 10018|   d005|\n",
      "+------+-------+\n",
      "only showing top 20 rows\n",
      "\n"
     ]
    }
   ],
   "source": [
    "spark.sql(\"select * from anabig114216.dept_emp\").show()"
   ]
  },
  {
   "cell_type": "code",
   "execution_count": 29,
   "metadata": {},
   "outputs": [
    {
     "name": "stdout",
     "output_type": "stream",
     "text": [
      "+-------+------------------+\n",
      "|dept_no|         dept_name|\n",
      "+-------+------------------+\n",
      "|   d001|         Marketing|\n",
      "|   d002|           Finance|\n",
      "|   d003|   Human Resources|\n",
      "|   d004|        Production|\n",
      "|   d005|       development|\n",
      "|   d006|Quality Management|\n",
      "|   d007|             Sales|\n",
      "|   d008|          Research|\n",
      "|   d009|  Customer Service|\n",
      "+-------+------------------+\n",
      "\n"
     ]
    }
   ],
   "source": [
    "spark.sql(\"select * from anabig114216.department\").show()"
   ]
  },
  {
   "cell_type": "code",
   "execution_count": 30,
   "metadata": {},
   "outputs": [
    {
     "name": "stdout",
     "output_type": "stream",
     "text": [
      "+------+------+\n",
      "|emp_no|salary|\n",
      "+------+------+\n",
      "| 10001| 60117|\n",
      "| 10002| 65828|\n",
      "| 10003| 40006|\n",
      "| 10004| 40054|\n",
      "| 10005| 78228|\n",
      "| 10006| 40000|\n",
      "| 10007| 56724|\n",
      "| 10008| 46671|\n",
      "| 10009| 60929|\n",
      "| 10010| 72488|\n",
      "| 10011| 42365|\n",
      "| 10012| 40000|\n",
      "| 10013| 40000|\n",
      "| 10014| 46168|\n",
      "| 10015| 40000|\n",
      "| 10016| 70889|\n",
      "| 10017| 71380|\n",
      "| 10018| 55881|\n",
      "| 10019| 44276|\n",
      "| 10020| 40000|\n",
      "+------+------+\n",
      "only showing top 20 rows\n",
      "\n"
     ]
    }
   ],
   "source": [
    "spark.sql(\"select * from anabig114216.salary\").show()"
   ]
  },
  {
   "cell_type": "code",
   "execution_count": 31,
   "metadata": {
    "scrolled": true
   },
   "outputs": [
    {
     "name": "stdout",
     "output_type": "stream",
     "text": [
      "+------+-------------+----------+----------+---------+---+----------+--------------+-----------------------+-----------------+----------+\n",
      "|emp_no|emp_titles_id|birth_date|first_name|last_name|sex| hire_date|no_of_projects|last_performance_rating|left_organization| last_date|\n",
      "+------+-------------+----------+----------+---------+---+----------+--------------+-----------------------+-----------------+----------+\n",
      "|\n",
      "|\n",
      "|\n",
      "|\n",
      "|\n",
      "+------+-------------+----------+----------+---------+---+----------+--------------+-----------------------+-----------------+----------+\n",
      "only showing top 5 rows\n",
      "\n"
     ]
    }
   ],
   "source": [
    "spark.sql(\"select * from anabig114216.employees\").show(5)"
   ]
  },
  {
   "cell_type": "code",
   "execution_count": 32,
   "metadata": {},
   "outputs": [
    {
     "name": "stdout",
     "output_type": "stream",
     "text": [
      "+------+-----------+----------+---+------+\n",
      "|emp_no|  last_name|first_name|sex|salary|\n",
      "+------+-----------+----------+---+------+\n",
      "| 10001|    Facello|    Georgi|  M| 60117|\n",
      "| 10002|     Simmel|   Bezalel|  F| 65828|\n",
      "| 10003|    Bamford|     Parto|  M| 40006|\n",
      "| 10004|    Koblick| Chirstian|  M| 40054|\n",
      "| 10005|   Maliniak|   Kyoichi|  M| 78228|\n",
      "| 10006|    Preusig|    Anneke|  F| 40000|\n",
      "| 10007|  Zielinski|   Tzvetan|  F| 56724|\n",
      "| 10008|   Kalloufi|    Saniya|  M| 46671|\n",
      "| 10009|       Peac|    Sumant|  F| 60929|\n",
      "| 10010|   Piveteau| Duangkaew|  F| 72488|\n",
      "| 10011|      Sluis|      Mary|  F| 42365|\n",
      "| 10012|  Bridgland|  Patricio|  M| 40000|\n",
      "| 10013|     Terkki| Eberhardt|  M| 40000|\n",
      "| 10014|      Genin|     Berni|  M| 46168|\n",
      "| 10015|  Nooteboom|  Guoxiang|  M| 40000|\n",
      "| 10016|Cappelletti|  Kazuhito|  M| 70889|\n",
      "| 10017|  Bouloucos| Cristinel|  F| 71380|\n",
      "| 10018|       Peha|  Kazuhide|  F| 55881|\n",
      "| 10019|    Haddadi|   Lillian|  M| 44276|\n",
      "| 10020|    Warwick|    Mayuko|  M| 40000|\n",
      "+------+-----------+----------+---+------+\n",
      "only showing top 20 rows\n",
      "\n"
     ]
    }
   ],
   "source": [
    "#1. A list showing employee number, last name, first name, sex, and salary for each employee1.\n",
    "spark.sql(\n",
    "           \"\"\"SELECT t1.emp_no, t1.last_name, t1.first_name, t1.sex, t2.salary\n",
    "           FROM anabig114216.employees t1\n",
    "           JOIN anabig114216.salary  t2\n",
    "           ON t1.emp_no = t2.emp_no\"\"\").show()\n"
   ]
  },
  {
   "cell_type": "code",
   "execution_count": 10,
   "metadata": {},
   "outputs": [
    {
     "name": "stdout",
     "output_type": "stream",
     "text": [
      "+-------+------------------+------+------------+-----------+\n",
      "|dept_no|         dept_name|emp_no|   last_name| first_name|\n",
      "+-------+------------------+------+------------+-----------+\n",
      "|   d001|         Marketing|110022|  Markovitch|  Margareta|\n",
      "|   d001|         Marketing|110039|    Minakawa|   Vishwani|\n",
      "|   d002|           Finance|110085|       Alpin|       Ebru|\n",
      "|   d002|           Finance|110114|  Legleitner|      Isamu|\n",
      "|   d003|   Human Resources|110183|Ossenbruggen|    Shirish|\n",
      "|   d003|   Human Resources|110228|     Sigstam|    Karsten|\n",
      "|   d004|        Production|110303|     Wegerle|  Krassimir|\n",
      "|   d004|        Production|110344|       Cools|     Rosine|\n",
      "|   d004|        Production|110386|      Kieras|       Shem|\n",
      "|   d004|        Production|110420|    Ghazalie|      Oscar|\n",
      "|   d005|       development|110511|    Hagimont|   DeForest|\n",
      "|   d005|       development|110567|    DasSarma|       Leon|\n",
      "|   d006|Quality Management|110725|     Onuegbe|  Peternela|\n",
      "|   d006|Quality Management|110765|     Hofmeyr|     Rutger|\n",
      "|   d006|Quality Management|110800|     Quadeer|     Sanjoy|\n",
      "|   d006|Quality Management|110854|       Pesch|       Dung|\n",
      "|   d007|             Sales|111035|   Kaelbling|Przemyslawa|\n",
      "|   d007|             Sales|111133|       Zhang|      Hauke|\n",
      "|   d008|          Research|111400|     Staelin|       Arie|\n",
      "|   d008|          Research|111534|      Kambil|     Hilary|\n",
      "+-------+------------------+------+------------+-----------+\n",
      "only showing top 20 rows\n",
      "\n"
     ]
    }
   ],
   "source": [
    "# 2.A list showing the manager of each department with the following information: department number, department name,\n",
    "# the manager's employee number, last name, first name.\n",
    "\n",
    "spark.sql(\n",
    "           \"\"\"SELECT t1.dept_no, t1.dept_name, t2.emp_no, t3.last_name, t3.first_name\n",
    "           FROM anabig114216.department t1 \n",
    "           JOIN anabig114216.dept_manager t2\n",
    "           ON t1.dept_no = t2.dept_no\n",
    "           JOIN anabig114216.employees t3\n",
    "           ON t2.emp_no = t3.emp_no\"\"\").show()\n",
    "\n",
    "\n",
    "\n"
   ]
  },
  {
   "cell_type": "code",
   "execution_count": 13,
   "metadata": {},
   "outputs": [
    {
     "name": "stdout",
     "output_type": "stream",
     "text": [
      "+------+-----------+----------+------------------+\n",
      "|emp_no|  last_name|first_name|         dept_name|\n",
      "+------+-----------+----------+------------------+\n",
      "| 10001|    Facello|    Georgi|       development|\n",
      "| 10002|     Simmel|   Bezalel|             Sales|\n",
      "| 10003|    Bamford|     Parto|        Production|\n",
      "| 10004|    Koblick| Chirstian|        Production|\n",
      "| 10005|   Maliniak|   Kyoichi|   Human Resources|\n",
      "| 10006|    Preusig|    Anneke|       development|\n",
      "| 10007|  Zielinski|   Tzvetan|          Research|\n",
      "| 10008|   Kalloufi|    Saniya|       development|\n",
      "| 10009|       Peac|    Sumant|Quality Management|\n",
      "| 10010|   Piveteau| Duangkaew|Quality Management|\n",
      "| 10010|   Piveteau| Duangkaew|        Production|\n",
      "| 10011|      Sluis|      Mary|  Customer Service|\n",
      "| 10012|  Bridgland|  Patricio|       development|\n",
      "| 10013|     Terkki| Eberhardt|   Human Resources|\n",
      "| 10014|      Genin|     Berni|       development|\n",
      "| 10015|  Nooteboom|  Guoxiang|          Research|\n",
      "| 10016|Cappelletti|  Kazuhito|             Sales|\n",
      "| 10017|  Bouloucos| Cristinel|         Marketing|\n",
      "| 10018|       Peha|  Kazuhide|       development|\n",
      "| 10018|       Peha|  Kazuhide|        Production|\n",
      "+------+-----------+----------+------------------+\n",
      "only showing top 20 rows\n",
      "\n"
     ]
    }
   ],
   "source": [
    "#3.A list showing the department of each employee with the following information: employee number, last name, first name,\n",
    "#and department name.\n",
    "\n",
    "spark.sql(\n",
    "          \"\"\"SELECT t1.emp_no, t2.last_name, t2.first_name, t3.dept_name\n",
    "          FROM anabig114216.dept_emp t1\n",
    "          JOIN anabig114216.employees t2\n",
    "          ON t1.emp_no = t2.emp_no\n",
    "          JOIN anabig114216.department t3\n",
    "          ON t1.dept_no = t3.dept_no\"\"\").show()\n"
   ]
  },
  {
   "cell_type": "code",
   "execution_count": 62,
   "metadata": {},
   "outputs": [
    {
     "name": "stdout",
     "output_type": "stream",
     "text": [
      "+----------+-------------+---+\n",
      "|first_name|    last_name|sex|\n",
      "+----------+-------------+---+\n",
      "|  Hercules|   Benzmuller|  M|\n",
      "|  Hercules|      Brendel|  F|\n",
      "|  Hercules|   Baranowski|  M|\n",
      "|  Hercules|     Barreiro|  M|\n",
      "|  Hercules|         Baer|  M|\n",
      "|  Hercules|Bernardinello|  F|\n",
      "|  Hercules|      Basagni|  M|\n",
      "|  Hercules|        Biran|  F|\n",
      "|  Hercules|    Bernatsky|  M|\n",
      "|  Hercules|         Bail|  F|\n",
      "|  Hercules|        Birge|  F|\n",
      "|  Hercules|      Bisiani|  F|\n",
      "|  Hercules|       Bodoff|  M|\n",
      "|  Hercules|        Biron|  F|\n",
      "|  Hercules|      Buchter|  M|\n",
      "|  Hercules|         Bain|  F|\n",
      "|  Hercules|         Bahr|  M|\n",
      "|  Hercules|         Baak|  M|\n",
      "|  Hercules|     Benantar|  F|\n",
      "|  Hercules|      Berstel|  F|\n",
      "+----------+-------------+---+\n",
      "\n"
     ]
    }
   ],
   "source": [
    "#4. A list showing first name, last name, and sex for employees whose first name is \"Hercules\" and last names begin with \"B\".\n",
    "\n",
    "spark.sql(\n",
    "          \"\"\"SELECT first_name, last_name,sex\n",
    "          FROM anabig114216.employees\n",
    "          WHERE first_name = 'Hercules' AND last_name Like 'B%' \"\"\").show()\n"
   ]
  },
  {
   "cell_type": "code",
   "execution_count": 14,
   "metadata": {},
   "outputs": [
    {
     "name": "stdout",
     "output_type": "stream",
     "text": [
      "+---------+------+------------+----------+\n",
      "|dept_name|emp_no|   last_name|first_name|\n",
      "+---------+------+------------+----------+\n",
      "|    Sales| 10002|      Simmel|   Bezalel|\n",
      "|    Sales| 10016| Cappelletti|  Kazuhito|\n",
      "|    Sales| 10034|        Swan|     Bader|\n",
      "|    Sales| 10041|      Lenart|       Uri|\n",
      "|    Sales| 10050|      Dredge|   Yinghua|\n",
      "|    Sales| 10053|    Zschoche|    Sanjiv|\n",
      "|    Sales| 10060| Billingsley|  Breannda|\n",
      "|    Sales| 10061|      Herber|       Tse|\n",
      "|    Sales| 10068|     Brattka|  Charlene|\n",
      "|    Sales| 10087|     Eugenio|   Xinglin|\n",
      "|    Sales| 10088|    Syrzycki|  Jungsoon|\n",
      "|    Sales| 10089|Flasterstein| Sudharsan|\n",
      "|    Sales| 10093|     Desikan|   Sailaja|\n",
      "|    Sales| 10095|      Morton|    Hilari|\n",
      "|    Sales| 10099|     Sullins|    Valter|\n",
      "|    Sales| 10101|      Heyers|     Perla|\n",
      "|    Sales| 10107|        Baca|      Dung|\n",
      "|    Sales| 10125|     Hiltgen|     Syozo|\n",
      "|    Sales| 10136|    Pintelas|    Zissis|\n",
      "|    Sales| 10148|       Azumi|    Douadi|\n",
      "+---------+------+------------+----------+\n",
      "only showing top 20 rows\n",
      "\n"
     ]
    }
   ],
   "source": [
    "#5. A list showing all employees in the Sales department, including their employee number, last name, first name, and\n",
    "#department name.\n",
    "spark.sql (\n",
    "           \"\"\"SELECT t3.dept_name, t2.emp_no,t2.last_name, t2.first_name\n",
    "            FROM anabig114216.dept_emp t1\n",
    "           JOIN anabig114216.employees t2\n",
    "           ON t1.emp_no = t2.emp_no\n",
    "           JOIN anabig114216.department t3\n",
    "           ON t1.dept_no = t3.dept_no\n",
    "           WHERE t3.dept_name = 'Sales' \"\"\").show()"
   ]
  },
  {
   "cell_type": "code",
   "execution_count": 64,
   "metadata": {},
   "outputs": [
    {
     "name": "stdout",
     "output_type": "stream",
     "text": [
      "+------+-----------+----------+-----------+\n",
      "|emp_no|  last_name|first_name|  dept_name|\n",
      "+------+-----------+----------+-----------+\n",
      "| 10001|    Facello|    Georgi|development|\n",
      "| 10002|     Simmel|   Bezalel|      Sales|\n",
      "| 10006|    Preusig|    Anneke|development|\n",
      "| 10008|   Kalloufi|    Saniya|development|\n",
      "| 10012|  Bridgland|  Patricio|development|\n",
      "| 10014|      Genin|     Berni|development|\n",
      "| 10016|Cappelletti|  Kazuhito|      Sales|\n",
      "| 10018|       Peha|  Kazuhide|development|\n",
      "| 10021|       Erde|     Ramzi|development|\n",
      "| 10022|     Famili|    Shahaf|development|\n",
      "| 10023| Montemayor|     Bojan|development|\n",
      "| 10025|     Heyers| Prasadram|development|\n",
      "| 10027|    Reistad|    Divier|development|\n",
      "| 10028|   Tempesti|  Domenick|development|\n",
      "| 10031|     Joslin|   Karsten|development|\n",
      "| 10034|       Swan|     Bader|      Sales|\n",
      "| 10037|   Makrucki|   Pradeep|development|\n",
      "| 10040|    Meriste|     Weiyi|development|\n",
      "| 10041|     Lenart|       Uri|      Sales|\n",
      "| 10043|    Tzvieli|    Yishay|development|\n",
      "+------+-----------+----------+-----------+\n",
      "only showing top 20 rows\n",
      "\n"
     ]
    }
   ],
   "source": [
    "#6. A list showing all employees in the Sales and Development departments, including their employee number, last name,\n",
    "#first name, and department name.\n",
    "spark.sql(\n",
    "          \"\"\"SELECT t1.emp_no,t1.last_name,t1.first_name,t3.dept_name\n",
    "            from anabig114216.employees t1\n",
    "            JOIN anabig114216.dept_emp t2\n",
    "            ON t1.emp_no = t2.emp_no\n",
    "            JOIN anabig114216.department t3\n",
    "            ON t2.dept_no = t3.dept_no\n",
    "            WHERE t3.dept_name = 'Sales' OR t3.dept_name = 'development' \"\"\").show()"
   ]
  },
  {
   "cell_type": "code",
   "execution_count": 15,
   "metadata": {},
   "outputs": [
    {
     "name": "stdout",
     "output_type": "stream",
     "text": [
      "+-----------+---------------+\n",
      "|  last_name|Frequency_Count|\n",
      "+-----------+---------------+\n",
      "|       Baba|            226|\n",
      "|      Coorg|            223|\n",
      "|     Gelosh|            223|\n",
      "|    Sudbeck|            222|\n",
      "|     Farris|            222|\n",
      "|     Adachi|            221|\n",
      "|     Osgood|            220|\n",
      "|     Masada|            218|\n",
      "|     Neiman|            218|\n",
      "|    Mandell|            218|\n",
      "|Boudaillier|            217|\n",
      "|    Wendorf|            217|\n",
      "|     Pettis|            216|\n",
      "|    Solares|            216|\n",
      "|     Mahnke|            216|\n",
      "|   Cummings|            216|\n",
      "|   Collette|            215|\n",
      "|   Birjandi|            215|\n",
      "|     Emmart|            215|\n",
      "|    Kulisch|            215|\n",
      "+-----------+---------------+\n",
      "only showing top 20 rows\n",
      "\n"
     ]
    }
   ],
   "source": [
    "#7. A list showing the frequency count of employee last names, in descending order.\n",
    "#( i.e., how many employees share each last name\n",
    "spark.sql(\n",
    "         \"\"\"SELECT last_name,COUNT(last_name) AS Frequency_Count\n",
    "            FROM anabig114216.employees\n",
    "            GROUP BY last_name\n",
    "            ORDER BY\n",
    "            FREQUENCY_Count DESC\"\"\").show()"
   ]
  },
  {
   "cell_type": "code",
   "execution_count": 17,
   "metadata": {},
   "outputs": [],
   "source": [
    "# 8. Histogram to show the salary distribution among the employees\n",
    "salary_distribution =spark.sql(\n",
    "            \"\"\"SELECT salary_range,count(salary_range) as salaries\n",
    "            from anabig114216.bin\n",
    "            GROUP BY salary_range\n",
    "            ORDER BY salaries DESC\"\"\")"
   ]
  },
  {
   "cell_type": "code",
   "execution_count": 19,
   "metadata": {},
   "outputs": [
    {
     "name": "stdout",
     "output_type": "stream",
     "text": [
      "+-------------+--------+\n",
      "| salary_range|salaries|\n",
      "+-------------+--------+\n",
      "|  40000-60000|  216380|\n",
      "|  60000-80000|   66227|\n",
      "| 80000-100000|   16129|\n",
      "|100000-120000|    1264|\n",
      "|120000-140000|      24|\n",
      "+-------------+--------+\n",
      "\n"
     ]
    }
   ],
   "source": [
    "salary_distribution.show()"
   ]
  },
  {
   "cell_type": "code",
   "execution_count": 20,
   "metadata": {},
   "outputs": [],
   "source": [
    "salary_distribution = salary_distribution.toPandas()                #converting to pandas dataframe"
   ]
  },
  {
   "cell_type": "code",
   "execution_count": 23,
   "metadata": {},
   "outputs": [
    {
     "data": {
      "text/plain": [
       "<matplotlib.axes._subplots.AxesSubplot at 0x7fd4df20fed0>"
      ]
     },
     "execution_count": 23,
     "metadata": {},
     "output_type": "execute_result"
    },
    {
     "data": {
      "image/png": "[encoded data removed]",
      "text/plain": [
       "<Figure size 864x432 with 1 Axes>"
      ]
     },
     "metadata": {
      "needs_background": "light"
     },
     "output_type": "display_data"
    }
   ],
   "source": [
    "salary_distribution.plot(kind='bar',figsize=(12,6))                 #plotting bargraph"
   ]
  },
  {
   "cell_type": "code",
   "execution_count": 24,
   "metadata": {},
   "outputs": [
    {
     "data": {
      "text/plain": [
       "<matplotlib.axes._subplots.AxesSubplot at 0x7fd4df1da3d0>"
      ]
     },
     "execution_count": 24,
     "metadata": {},
     "output_type": "execute_result"
    },
    {
     "data": {
      "image/png": "[encoded data removed]",
      "text/plain": [
       "<Figure size 864x432 with 1 Axes>"
      ]
     },
     "metadata": {
      "needs_background": "light"
     },
     "output_type": "display_data"
    }
   ],
   "source": [
    "salary_distribution.plot(kind='hist',figsize=(12,6))                     #plotting histogram for salary distribution"
   ]
  },
  {
   "cell_type": "code",
   "execution_count": 25,
   "metadata": {},
   "outputs": [],
   "source": [
    "# 9. Bar graph to show the Average salary per title (designation)\n",
    "\n",
    "avg_salary=spark.sql(\n",
    "            \"\"\"select t3.title, AVG(t1.salary) as avg_salary\n",
    "            from anabig114216.salary t1\n",
    "            join anabig114216.employees t2\n",
    "            on t1.emp_no = t2.emp_no\n",
    "            join anabig114216.titles t3\n",
    "            on t2.emp_titles_id =t3.title_id\n",
    "            group by t3.title\"\"\")"
   ]
  },
  {
   "cell_type": "code",
   "execution_count": 26,
   "metadata": {},
   "outputs": [
    {
     "name": "stdout",
     "output_type": "stream",
     "text": [
      "+------------------+------------------+\n",
      "|             title|        avg_salary|\n",
      "+------------------+------------------+\n",
      "|             Staff| 58465.38285033152|\n",
      "|Assistant Engineer| 48564.43444730077|\n",
      "|      Senior Staff| 58550.17270435993|\n",
      "|   Senior Engineer| 48506.79987109579|\n",
      "|          Engineer|48535.336511426336|\n",
      "|           Manager|51531.041666666664|\n",
      "|  Technique Leader| 48582.89609189332|\n",
      "+------------------+------------------+\n",
      "\n"
     ]
    }
   ],
   "source": [
    "avg_salary.show()"
   ]
  },
  {
   "cell_type": "code",
   "execution_count": 27,
   "metadata": {},
   "outputs": [],
   "source": [
    "avg_salary = avg_salary.toPandas()                              #converting into pandas dataframe"
   ]
  },
  {
   "cell_type": "code",
   "execution_count": 28,
   "metadata": {},
   "outputs": [
    {
     "data": {
      "text/html": [
       "<div>\n",
       "<style scoped>\n",
       "    .dataframe tbody tr th:only-of-type {\n",
       "        vertical-align: middle;\n",
       "    }\n",
       "\n",
       "    .dataframe tbody tr th {\n",
       "        vertical-align: top;\n",
       "    }\n",
       "\n",
       "    .dataframe thead th {\n",
       "        text-align: right;\n",
       "    }\n",
       "</style>\n",
       "<table border=\"1\" class=\"dataframe\">\n",
       "  <thead>\n",
       "    <tr style=\"text-align: right;\">\n",
       "      <th></th>\n",
       "      <th>title</th>\n",
       "      <th>avg_salary</th>\n",
       "    </tr>\n",
       "  </thead>\n",
       "  <tbody>\n",
       "    <tr>\n",
       "      <th>0</th>\n",
       "      <td>Staff</td>\n",
       "      <td>58465.382850</td>\n",
       "    </tr>\n",
       "    <tr>\n",
       "      <th>1</th>\n",
       "      <td>Assistant Engineer</td>\n",
       "      <td>48564.434447</td>\n",
       "    </tr>\n",
       "    <tr>\n",
       "      <th>2</th>\n",
       "      <td>Senior Staff</td>\n",
       "      <td>58550.172704</td>\n",
       "    </tr>\n",
       "    <tr>\n",
       "      <th>3</th>\n",
       "      <td>Senior Engineer</td>\n",
       "      <td>48506.799871</td>\n",
       "    </tr>\n",
       "    <tr>\n",
       "      <th>4</th>\n",
       "      <td>Engineer</td>\n",
       "      <td>48535.336511</td>\n",
       "    </tr>\n",
       "  </tbody>\n",
       "</table>\n",
       "</div>"
      ],
      "text/plain": [
       "                title    avg_salary\n",
       "0               Staff  58465.382850\n",
       "1  Assistant Engineer  48564.434447\n",
       "2        Senior Staff  58550.172704\n",
       "3     Senior Engineer  48506.799871\n",
       "4            Engineer  48535.336511"
      ]
     },
     "execution_count": 28,
     "metadata": {},
     "output_type": "execute_result"
    }
   ],
   "source": [
    "avg_salary.head()"
   ]
  },
  {
   "cell_type": "code",
   "execution_count": 29,
   "metadata": {
    "scrolled": true
   },
   "outputs": [
    {
     "data": {
      "text/plain": [
       "<matplotlib.axes._subplots.AxesSubplot at 0x7fd4df0b7c50>"
      ]
     },
     "execution_count": 29,
     "metadata": {},
     "output_type": "execute_result"
    },
    {
     "data": {
      "image/png": "[encoded data removed]",
      "text/plain": [
       "<Figure size 864x432 with 1 Axes>"
      ]
     },
     "metadata": {
      "needs_background": "light"
     },
     "output_type": "display_data"
    }
   ],
   "source": [
    "avg_salary.plot(kind='bar',figsize=(12,6))                      #plotting bar graph"
   ]
  },
  {
   "cell_type": "code",
   "execution_count": 33,
   "metadata": {},
   "outputs": [
    {
     "name": "stdout",
     "output_type": "stream",
     "text": [
      "+--------------+------+----------+\n",
      "|average_salary|emp_no|first_name|\n",
      "+--------------+------+----------+\n",
      "|      129492.0|205000|  Charmane|\n",
      "|      127238.0| 44188|   Slavian|\n",
      "|      127041.0|444756|     Nahid|\n",
      "|      126703.0|458302|    Poorav|\n",
      "|      125469.0| 37558| Juichirou|\n",
      "|      124357.0|296857|   Toshimo|\n",
      "|      123749.0| 20004|  Radoslaw|\n",
      "|      123668.0|109334|   Tsutomu|\n",
      "|      123477.0|474456|   Martine|\n",
      "|      122726.0|474684|  Chinhyun|\n",
      "+--------------+------+----------+\n",
      "\n"
     ]
    }
   ],
   "source": [
    "# Top 10 employees whose average salary is greater than 100000\n",
    "spark.sql(\n",
    "            \"\"\"select AVG(t1.salary) as average_salary,t2.emp_no,t2.first_name\n",
    "            from salary t1\n",
    "            join employees t2\n",
    "            on t1.emp_no = t2.emp_no\n",
    "            group by t2.emp_no,t2.first_name\n",
    "            order by average_salary desc limit 10\"\"\").show()"
   ]
  },
  {
   "cell_type": "code",
   "execution_count": 34,
   "metadata": {},
   "outputs": [
    {
     "name": "stdout",
     "output_type": "stream",
     "text": [
      "+------------------+-------+------+----------+\n",
      "|         dept_name|dept_no|emp_no|first_name|\n",
      "+------------------+-------+------+----------+\n",
      "|           \"Sales\"|   d007| 10002|   Bezalel|\n",
      "|     \"development\"|   d005| 10014|     Berni|\n",
      "|       \"Marketing\"|   d001| 10058|   Berhard|\n",
      "|           \"Sales\"|   d007| 10270|     Bedir|\n",
      "|           \"Sales\"|   d007| 10304|     Bernt|\n",
      "|     \"development\"|   d005| 10324|  Bernardo|\n",
      "|     \"development\"|   d005| 10549|    Beshir|\n",
      "|     \"development\"|   d005| 10587|   Behnaam|\n",
      "|      \"Production\"|   d004| 10630|   Bezalel|\n",
      "|\"Customer Service\"|   d009| 10682|     Bedir|\n",
      "|\"Customer Service\"|   d009| 10693|   Berhard|\n",
      "|\"Customer Service\"|   d009| 10721|     Bernd|\n",
      "|           \"Sales\"|   d007| 10770|     Bedir|\n",
      "|      \"Production\"|   d004| 10812|  Berthier|\n",
      "|     \"development\"|   d005| 10842|     Berni|\n",
      "|     \"development\"|   d005| 10943|     Berna|\n",
      "|     \"development\"|   d005| 11018|  Berthier|\n",
      "|     \"development\"|   d005| 11078|    Beshir|\n",
      "|        \"Research\"|   d008| 11100|     Berna|\n",
      "|\"Customer Service\"|   d009| 11102|  Bernardo|\n",
      "+------------------+-------+------+----------+\n",
      "only showing top 20 rows\n",
      "\n"
     ]
    }
   ],
   "source": [
    "#provide employee details and depart details whose employee firstname starts with 'Be'\n",
    "spark.sql(\n",
    "            \"\"\"select t3.dept_name,t3.dept_no,t1.emp_no,t1.first_name\n",
    "            from employees t1\n",
    "            join dept_emp t2\n",
    "            on t1.emp_no = t2.emp_no\n",
    "            join departments t3\n",
    "            on t3.dept_no=t2.dept_no\n",
    "            where first_name like 'Be%' \"\"\").show()"
   ]
  },
  {
   "cell_type": "code",
   "execution_count": 39,
   "metadata": {},
   "outputs": [
    {
     "name": "stdout",
     "output_type": "stream",
     "text": [
      "+-----------+------------+-------+------+\n",
      "| first_name|   last_name|  title|emp_no|\n",
      "+-----------+------------+-------+------+\n",
      "|  Margareta|  Markovitch|Manager|110022|\n",
      "|   Vishwani|    Minakawa|Manager|110039|\n",
      "|       Ebru|       Alpin|Manager|110085|\n",
      "|      Isamu|  Legleitner|Manager|110114|\n",
      "|    Shirish|Ossenbruggen|Manager|110183|\n",
      "|    Karsten|     Sigstam|Manager|110228|\n",
      "|  Krassimir|     Wegerle|Manager|110303|\n",
      "|     Rosine|       Cools|Manager|110344|\n",
      "|       Shem|      Kieras|Manager|110386|\n",
      "|      Oscar|    Ghazalie|Manager|110420|\n",
      "|   DeForest|    Hagimont|Manager|110511|\n",
      "|       Leon|    DasSarma|Manager|110567|\n",
      "|  Peternela|     Onuegbe|Manager|110725|\n",
      "|     Rutger|     Hofmeyr|Manager|110765|\n",
      "|     Sanjoy|     Quadeer|Manager|110800|\n",
      "|       Dung|       Pesch|Manager|110854|\n",
      "|Przemyslawa|   Kaelbling|Manager|111035|\n",
      "|      Hauke|       Zhang|Manager|111133|\n",
      "|       Arie|     Staelin|Manager|111400|\n",
      "|     Hilary|      Kambil|Manager|111534|\n",
      "+-----------+------------+-------+------+\n",
      "only showing top 20 rows\n",
      "\n"
     ]
    }
   ],
   "source": [
    "#Retrieve the details of employees whose designation is Manager\n",
    "\n",
    "spark.sql(\n",
    "            \"\"\"Select t1.first_name,t1.last_name,t2.title,t1.emp_no\n",
    "            from employees t1\n",
    "            Join titles t2\n",
    "            on t1.emp_titles_id = t2.title_id\n",
    "            where t2.title like 'Manager' \"\"\").show()"
   ]
  },
  {
   "cell_type": "code",
   "execution_count": 40,
   "metadata": {},
   "outputs": [
    {
     "name": "stdout",
     "output_type": "stream",
     "text": [
      "+------------------+----------+----------+\n",
      "|        avg_salary|min_salary|max_salary|\n",
      "+------------------+----------+----------+\n",
      "|52970.732451403885|     40000|    129492|\n",
      "+------------------+----------+----------+\n",
      "\n"
     ]
    }
   ],
   "source": [
    "#find average,minimum,maximum salary of employees.\n",
    "spark.sql(\n",
    "            \"\"\"Select avg(salary) avg_salary,min(salary) min_salary,max(salary) max_salary\n",
    "                from salary\n",
    "                order by avg_salary,min_salary,max_salary\"\"\").show()"
   ]
  },
  {
   "cell_type": "code",
   "execution_count": 44,
   "metadata": {},
   "outputs": [
    {
     "name": "stdout",
     "output_type": "stream",
     "text": [
      "+------+----------+------+\n",
      "|emp_no|first_name|salary|\n",
      "+------+----------+------+\n",
      "| 10003|     Parto| 40006|\n",
      "| 10004| Chirstian| 40054|\n",
      "| 10006|    Anneke| 40000|\n",
      "| 10008|    Saniya| 46671|\n",
      "| 10011|      Mary| 42365|\n",
      "| 10012|  Patricio| 40000|\n",
      "| 10013| Eberhardt| 40000|\n",
      "| 10014|     Berni| 46168|\n",
      "| 10015|  Guoxiang| 40000|\n",
      "| 10019|   Lillian| 44276|\n",
      "| 10020|    Mayuko| 40000|\n",
      "| 10022|    Shahaf| 40000|\n",
      "| 10023|     Bojan| 47883|\n",
      "| 10025| Prasadram| 40000|\n",
      "| 10026|  Yongqiao| 47585|\n",
      "| 10027|    Divier| 40000|\n",
      "| 10028|  Domenick| 48859|\n",
      "| 10031|   Karsten| 40000|\n",
      "| 10032|     Jeong| 48426|\n",
      "| 10034|     Bader| 47561|\n",
      "+------+----------+------+\n",
      "only showing top 20 rows\n",
      "\n"
     ]
    }
   ],
   "source": [
    "#list of showing employees whose salary is between 40000 and 50000\n",
    "spark.sql(\n",
    "            \"\"\"select t1.emp_no,t1.first_name,t2.salary\n",
    "            from employees t1\n",
    "            join salary t2\n",
    "            on t1.emp_no=t2.emp_no\n",
    "            where t2.salary between '40000' and '50000'\"\"\").show()"
   ]
  },
  {
   "cell_type": "code",
   "execution_count": null,
   "metadata": {},
   "outputs": [],
   "source": []
  }
 ],
 "metadata": {
  "kernelspec": {
   "display_name": "Python 3",
   "language": "python",
   "name": "python3"
  },
  "language_info": {
   "codemirror_mode": {
    "name": "ipython",
    "version": 3
   },
   "file_extension": ".py",
   "mimetype": "text/x-python",
   "name": "python",
   "nbconvert_exporter": "python",
   "pygments_lexer": "ipython3",
   "version": "3.7.6"
  }
 },
 "nbformat": 4,
 "nbformat_minor": 4
}

{
  "nbformat": 4,
  "nbformat_minor": 0,
  "metadata": {
    "colab": {
      "name": "sparkml (1).ipynb",
      "provenance": []
    },
    "kernelspec": {
      "name": "python3",
      "display_name": "Python 3"
    },
    "language_info": {
      "name": "python"
    }
  },
  "cells": [
    {
      "cell_type": "code",
      "execution_count": 1,
      "metadata": {
        "colab": {
          "base_uri": "https://localhost:8080/"
        },
        "id": "ggQvLGKgNhi-",
        "outputId": "64ce9809-9015-46cb-edea-1975b66ecc6e"
      },
      "outputs": [
        {
          "output_type": "stream",
          "name": "stdout",
          "text": [
            "Collecting pyspark\n",
            "  Downloading pyspark-3.2.1.tar.gz (281.4 MB)\n",
            "\u001b[K     |████████████████████████████████| 281.4 MB 34 kB/s \n",
            "\u001b[?25hCollecting py4j==0.10.9.3\n",
            "  Downloading py4j-0.10.9.3-py2.py3-none-any.whl (198 kB)\n",
            "\u001b[K     |████████████████████████████████| 198 kB 52.5 MB/s \n",
            "\u001b[?25hBuilding wheels for collected packages: pyspark\n",
            "  Building wheel for pyspark (setup.py) ... \u001b[?25l\u001b[?25hdone\n",
            "  Created wheel for pyspark: filename=pyspark-3.2.1-py2.py3-none-any.whl size=281853642 sha256=6731fa30e27ac70f434073ac3898ae23f339982e7fd1cee60a5211c8e5318f45\n",
            "  Stored in directory: /root/.cache/pip/wheels/9f/f5/07/7cd8017084dce4e93e84e92efd1e1d5334db05f2e83bcef74f\n",
            "Successfully built pyspark\n",
            "Installing collected packages: py4j, pyspark\n",
            "Successfully installed py4j-0.10.9.3 pyspark-3.2.1\n"
          ]
        }
      ],
      "source": [
        "!pip install pyspark"
      ]
    },
    {
      "cell_type": "code",
      "source": [
        "!apt-get install openjdk-8-jdk-headless -qq > /dev/null"
      ],
      "metadata": {
        "id": "0sT_hQqANmgG"
      },
      "execution_count": 2,
      "outputs": []
    },
    {
      "cell_type": "code",
      "source": [
        "!wget -q https://dlcdn.apache.org/spark/spark-3.2.1/spark-3.2.1-bin-hadoop2.7.tgz"
      ],
      "metadata": {
        "id": "lOTUjLZ0NmlE"
      },
      "execution_count": 3,
      "outputs": []
    },
    {
      "cell_type": "code",
      "source": [
        "!tar xf spark-3.2.1-bin-hadoop2.7.tgz\n"
      ],
      "metadata": {
        "id": "12qS_wYQNmoT"
      },
      "execution_count": 4,
      "outputs": []
    },
    {
      "cell_type": "code",
      "source": [
        "!pip install -q findspark"
      ],
      "metadata": {
        "id": "E6Dr1ajDNmq9"
      },
      "execution_count": 5,
      "outputs": []
    },
    {
      "cell_type": "code",
      "source": [
        "import os\n",
        "os.environ[\"JAVA_HOME\"] = \"/usr/lib/jvm/java-8-openjdk-amd64\"\n",
        "os.environ[\"SPARK_HOME\"] = \"/content/spark-3.2.1-bin-hadoop2.7\"\n",
        "\n",
        "import findspark\n",
        "\n",
        "findspark.init()\n",
        "\n",
        "import pyspark"
      ],
      "metadata": {
        "id": "PlSi9FZqNmtK"
      },
      "execution_count": 6,
      "outputs": []
    },
    {
      "cell_type": "code",
      "source": [
        "### Initialize the spark\n",
        "from pyspark.sql import SparkSession\n",
        "spark = SparkSession.builder.getOrCreate()\n",
        "spark"
      ],
      "metadata": {
        "colab": {
          "base_uri": "https://localhost:8080/",
          "height": 219
        },
        "id": "glyuF7mQNmxe",
        "outputId": "83d28030-a5c3-4c4f-bb72-2d37fa99bd20"
      },
      "execution_count": 7,
      "outputs": [
        {
          "output_type": "execute_result",
          "data": {
            "text/plain": [
              "<pyspark.sql.session.SparkSession at 0x7f71f79a2410>"
            ],
            "text/html": [
              "\n",
              "            <div>\n",
              "                <p><b>SparkSession - in-memory</b></p>\n",
              "                \n",
              "        <div>\n",
              "            <p><b>SparkContext</b></p>\n",
              "\n",
              "            <p><a href=\"http://123e9a8b6be1:4040\">Spark UI</a></p>\n",
              "\n",
              "            <dl>\n",
              "              <dt>Version</dt>\n",
              "                <dd><code>v3.2.1</code></dd>\n",
              "              <dt>Master</dt>\n",
              "                <dd><code>local[*]</code></dd>\n",
              "              <dt>AppName</dt>\n",
              "                <dd><code>pyspark-shell</code></dd>\n",
              "            </dl>\n",
              "        </div>\n",
              "        \n",
              "            </div>\n",
              "        "
            ]
          },
          "metadata": {},
          "execution_count": 7
        }
      ]
    },
    {
      "cell_type": "code",
      "source": [
        "import pyspark.ml as ml"
      ],
      "metadata": {
        "id": "0ErUVi8eN_D-"
      },
      "execution_count": 8,
      "outputs": []
    },
    {
      "cell_type": "code",
      "source": [
        "salaries_df = spark.read.csv(\"salaries.csv\",inferSchema=True,header=True)"
      ],
      "metadata": {
        "id": "-pYIGUCXN_Hv"
      },
      "execution_count": 10,
      "outputs": []
    },
    {
      "cell_type": "code",
      "source": [
        "salaries_df.show(10)"
      ],
      "metadata": {
        "colab": {
          "base_uri": "https://localhost:8080/"
        },
        "id": "JpG1OuPCO3kc",
        "outputId": "078453c6-4e2c-4f3a-9be2-22f058fa4be8"
      },
      "execution_count": 15,
      "outputs": [
        {
          "output_type": "stream",
          "name": "stdout",
          "text": [
            "+------+------+\n",
            "|emp_no|salary|\n",
            "+------+------+\n",
            "| 10001| 60117|\n",
            "| 10002| 65828|\n",
            "| 10003| 40006|\n",
            "| 10004| 40054|\n",
            "| 10005| 78228|\n",
            "| 10006| 40000|\n",
            "| 10007| 56724|\n",
            "| 10008| 46671|\n",
            "| 10009| 60929|\n",
            "| 10010| 72488|\n",
            "+------+------+\n",
            "only showing top 10 rows\n",
            "\n"
          ]
        }
      ]
    },
    {
      "cell_type": "code",
      "source": [
        "employees_df = spark.read.csv(\"employees.csv\",inferSchema=True,header=True)"
      ],
      "metadata": {
        "id": "OM-6dQL-N_LK"
      },
      "execution_count": 20,
      "outputs": []
    },
    {
      "cell_type": "code",
      "source": [
        "employees_df.show(10)"
      ],
      "metadata": {
        "colab": {
          "base_uri": "https://localhost:8080/"
        },
        "id": "EdtzIFxAO8-M",
        "outputId": "783230cb-2e93-47ea-be93-4b11a5139fa0"
      },
      "execution_count": 21,
      "outputs": [
        {
          "output_type": "stream",
          "name": "stdout",
          "text": [
            "+------+------------+----------+----------+---------+---+----------+--------------+-----------------------+----+---------+\n",
            "|emp_no|emp_title_id|birth_date|first_name|last_name|sex| hire_date|no_of_projects|Last_performance_rating|left|last_date|\n",
            "+------+------------+----------+----------+---------+---+----------+--------------+-----------------------+----+---------+\n",
            "|473302|       s0001| 7/25/1953|  Hideyuki| Zallocco|  M| 4/28/1990|             2|                      A|   0|     null|\n",
            "|475053|       e0002|11/18/1954|     Byong|Delgrande|  F|  9/7/1991|             1|                      C|   0|     null|\n",
            "| 57444|       e0002| 1/30/1958|     Berry|     Babb|  F| 3/21/1992|             9|                      A|   0|     null|\n",
            "|421786|       s0001| 9/28/1957|     Xiong| Verhoeff|  M|11/26/1987|             2|                      C|   0|     null|\n",
            "|282238|       e0003|10/28/1952|Abdelkader|  Baumann|  F| 1/18/1991|             6|                      B|   0|     null|\n",
            "|263976|       e0003|10/30/1959|      Eran| Cusworth|  M|11/14/1986|             8|                      B|   1|8/21/1993|\n",
            "|273487|       s0001| 4/14/1957| Christoph|  Parfitt|  M| 6/28/1991|            10|                      A|   0|     null|\n",
            "|461591|       s0002|11/17/1964|    Xudong| Samarati|  M|11/13/1985|             2|                      A|   1|8/21/1994|\n",
            "|477657|       e0002|12/18/1962|    Lihong|Magliocco|  M|10/23/1993|             5|                      A|   0|     null|\n",
            "|219881|       s0002| 4/24/1956| Kwangyoen|    Speek|  F| 2/14/1993|             6|                      B|   0|     null|\n",
            "+------+------------+----------+----------+---------+---+----------+--------------+-----------------------+----+---------+\n",
            "only showing top 10 rows\n",
            "\n"
          ]
        }
      ]
    },
    {
      "cell_type": "code",
      "source": [
        "titles_df = spark.read.csv(\"titles.csv\",inferSchema=True,header=True)"
      ],
      "metadata": {
        "id": "Mb0X7U1ZN_Sm"
      },
      "execution_count": 11,
      "outputs": []
    },
    {
      "cell_type": "code",
      "source": [
        "titles_df.show(10)"
      ],
      "metadata": {
        "colab": {
          "base_uri": "https://localhost:8080/"
        },
        "id": "g1ERpL8WPBBr",
        "outputId": "d38e1b98-2298-4822-e3fe-9bd3779e91c9"
      },
      "execution_count": 16,
      "outputs": [
        {
          "output_type": "stream",
          "name": "stdout",
          "text": [
            "+--------+------------------+\n",
            "|title_id|             title|\n",
            "+--------+------------------+\n",
            "|   s0001|             Staff|\n",
            "|   s0002|      Senior Staff|\n",
            "|   e0001|Assistant Engineer|\n",
            "|   e0002|          Engineer|\n",
            "|   e0003|   Senior Engineer|\n",
            "|   e0004|  Technique Leader|\n",
            "|   m0001|           Manager|\n",
            "+--------+------------------+\n",
            "\n"
          ]
        }
      ]
    },
    {
      "cell_type": "code",
      "source": [
        "departments_df = spark.read.csv(\"departments.csv\",inferSchema=True,header=True)"
      ],
      "metadata": {
        "id": "WIPGV5iLN_Ve"
      },
      "execution_count": 12,
      "outputs": []
    },
    {
      "cell_type": "code",
      "source": [
        "departments_df.show(10)"
      ],
      "metadata": {
        "colab": {
          "base_uri": "https://localhost:8080/"
        },
        "id": "LaEQKWuxPF0S",
        "outputId": "6dccf8fd-6d3b-44f1-89d2-2957287b3eed"
      },
      "execution_count": 17,
      "outputs": [
        {
          "output_type": "stream",
          "name": "stdout",
          "text": [
            "+-------+------------------+\n",
            "|dept_no|         dept_name|\n",
            "+-------+------------------+\n",
            "|   d001|         Marketing|\n",
            "|   d002|           Finance|\n",
            "|   d003|   Human Resources|\n",
            "|   d004|        Production|\n",
            "|   d005|       development|\n",
            "|   d006|Quality Management|\n",
            "|   d007|             Sales|\n",
            "|   d008|          Research|\n",
            "|   d009|  Customer Service|\n",
            "+-------+------------------+\n",
            "\n"
          ]
        }
      ]
    },
    {
      "cell_type": "code",
      "source": [
        "dept_emp_df = spark.read.csv(\"dept_emp.csv\",inferSchema=True,header=True)"
      ],
      "metadata": {
        "id": "DcikTI1CN_Xq"
      },
      "execution_count": 13,
      "outputs": []
    },
    {
      "cell_type": "code",
      "source": [
        "dept_emp_df.show(10)"
      ],
      "metadata": {
        "colab": {
          "base_uri": "https://localhost:8080/"
        },
        "id": "ODHj4va8PJuV",
        "outputId": "04b5c407-8831-41c4-f5f5-356b5800a255"
      },
      "execution_count": 18,
      "outputs": [
        {
          "output_type": "stream",
          "name": "stdout",
          "text": [
            "+------+-------+\n",
            "|emp_no|dept_no|\n",
            "+------+-------+\n",
            "| 10001|   d005|\n",
            "| 10002|   d007|\n",
            "| 10003|   d004|\n",
            "| 10004|   d004|\n",
            "| 10005|   d003|\n",
            "| 10006|   d005|\n",
            "| 10007|   d008|\n",
            "| 10008|   d005|\n",
            "| 10009|   d006|\n",
            "| 10010|   d004|\n",
            "+------+-------+\n",
            "only showing top 10 rows\n",
            "\n"
          ]
        }
      ]
    },
    {
      "cell_type": "code",
      "source": [
        "dept_manager_df = spark.read.csv(\"dept_manager.csv\",inferSchema=True,header=True)"
      ],
      "metadata": {
        "id": "BNUsN2TzN_aH"
      },
      "execution_count": 14,
      "outputs": []
    },
    {
      "cell_type": "code",
      "source": [
        "dept_manager_df.show(10)"
      ],
      "metadata": {
        "colab": {
          "base_uri": "https://localhost:8080/"
        },
        "id": "oyMPbuupPN7s",
        "outputId": "e0b76e28-916b-4338-ceb6-5768a5f147bb"
      },
      "execution_count": 19,
      "outputs": [
        {
          "output_type": "stream",
          "name": "stdout",
          "text": [
            "+-------+------+\n",
            "|dept_no|emp_no|\n",
            "+-------+------+\n",
            "|   d001|110022|\n",
            "|   d001|110039|\n",
            "|   d002|110085|\n",
            "|   d002|110114|\n",
            "|   d003|110183|\n",
            "|   d003|110228|\n",
            "|   d004|110303|\n",
            "|   d004|110344|\n",
            "|   d004|110386|\n",
            "|   d004|110420|\n",
            "+-------+------+\n",
            "only showing top 10 rows\n",
            "\n"
          ]
        }
      ]
    },
    {
      "cell_type": "code",
      "source": [
        "#performing joins\n",
        "df_joins = employees_df.join(dept_emp_df, on ='emp_no',how='left')\\\n",
        "          .join(departments_df,departments_df.dept_no==dept_emp_df.dept_no,how='left').drop(dept_emp_df.dept_no)\\\n",
        "          .join(dept_manager_df,on='emp_no',how='left').drop(dept_manager_df.dept_no)\\\n",
        "          .join(salaries_df,on='emp_no',how='left')\\\n",
        "          .join(titles_df,employees_df.emp_title_id==titles_df.title_id,how='left')\n",
        "            \n"
      ],
      "metadata": {
        "id": "dvbbryTpPO26"
      },
      "execution_count": 22,
      "outputs": []
    },
    {
      "cell_type": "code",
      "source": [
        "df_joins.show(10)"
      ],
      "metadata": {
        "colab": {
          "base_uri": "https://localhost:8080/"
        },
        "id": "sK3SEV1DPPFe",
        "outputId": "094da123-eb2c-4b4b-f615-3d7ac2d20265"
      },
      "execution_count": 23,
      "outputs": [
        {
          "output_type": "stream",
          "name": "stdout",
          "text": [
            "+------+------------+----------+----------+---------+---+----------+--------------+-----------------------+----+---------+-------+------------------+------+--------+---------------+\n",
            "|emp_no|emp_title_id|birth_date|first_name|last_name|sex| hire_date|no_of_projects|Last_performance_rating|left|last_date|dept_no|         dept_name|salary|title_id|          title|\n",
            "+------+------------+----------+----------+---------+---+----------+--------------+-----------------------+----+---------+-------+------------------+------+--------+---------------+\n",
            "|473302|       s0001| 7/25/1953|  Hideyuki| Zallocco|  M| 4/28/1990|             2|                      A|   0|     null|   d002|           Finance| 40000|   s0001|          Staff|\n",
            "|475053|       e0002|11/18/1954|     Byong|Delgrande|  F|  9/7/1991|             1|                      C|   0|     null|   d004|        Production| 53422|   e0002|       Engineer|\n",
            "| 57444|       e0002| 1/30/1958|     Berry|     Babb|  F| 3/21/1992|             9|                      A|   0|     null|   d004|        Production| 48973|   e0002|       Engineer|\n",
            "|421786|       s0001| 9/28/1957|     Xiong| Verhoeff|  M|11/26/1987|             2|                      C|   0|     null|   d003|   Human Resources| 40000|   s0001|          Staff|\n",
            "|282238|       e0003|10/28/1952|Abdelkader|  Baumann|  F| 1/18/1991|             6|                      B|   0|     null|   d006|Quality Management| 40000|   e0003|Senior Engineer|\n",
            "|263976|       e0003|10/30/1959|      Eran| Cusworth|  M|11/14/1986|             8|                      B|   1|8/21/1993|   d006|Quality Management| 40000|   e0003|Senior Engineer|\n",
            "|273487|       s0001| 4/14/1957| Christoph|  Parfitt|  M| 6/28/1991|            10|                      A|   0|     null|   d003|   Human Resources| 56087|   s0001|          Staff|\n",
            "|461591|       s0002|11/17/1964|    Xudong| Samarati|  M|11/13/1985|             2|                      A|   1|8/21/1994|   d002|           Finance| 40000|   s0002|   Senior Staff|\n",
            "|477657|       e0002|12/18/1962|    Lihong|Magliocco|  M|10/23/1993|             5|                      A|   0|     null|   d006|Quality Management| 54816|   e0002|       Engineer|\n",
            "|219881|       s0002| 4/24/1956| Kwangyoen|    Speek|  F| 2/14/1993|             6|                      B|   0|     null|   d009|  Customer Service| 40000|   s0002|   Senior Staff|\n",
            "+------+------------+----------+----------+---------+---+----------+--------------+-----------------------+----+---------+-------+------------------+------+--------+---------------+\n",
            "only showing top 10 rows\n",
            "\n"
          ]
        }
      ]
    },
    {
      "cell_type": "code",
      "source": [
        "df_joins.printSchema()"
      ],
      "metadata": {
        "colab": {
          "base_uri": "https://localhost:8080/"
        },
        "id": "J0LqPltjPPIT",
        "outputId": "92c5521c-0523-4704-d669-ce5ef172308b"
      },
      "execution_count": null,
      "outputs": [
        {
          "output_type": "stream",
          "name": "stdout",
          "text": [
            "root\n",
            " |-- emp_no: integer (nullable = true)\n",
            " |-- emp_title_id: string (nullable = true)\n",
            " |-- birth_date: string (nullable = true)\n",
            " |-- first_name: string (nullable = true)\n",
            " |-- last_name: string (nullable = true)\n",
            " |-- sex: string (nullable = true)\n",
            " |-- hire_date: string (nullable = true)\n",
            " |-- no_of_projects: integer (nullable = true)\n",
            " |-- Last_performance_rating: string (nullable = true)\n",
            " |-- left: integer (nullable = true)\n",
            " |-- last_date: string (nullable = true)\n",
            " |-- dept_no: string (nullable = true)\n",
            " |-- dept_name: string (nullable = true)\n",
            " |-- salary: integer (nullable = true)\n",
            " |-- title_id: string (nullable = true)\n",
            " |-- title: string (nullable = true)\n",
            "\n"
          ]
        }
      ]
    },
    {
      "cell_type": "code",
      "source": [
        "df_joins.describe().show()"
      ],
      "metadata": {
        "colab": {
          "base_uri": "https://localhost:8080/"
        },
        "id": "Cc9DLegXSdzD",
        "outputId": "b8069728-5323-4ba6-f642-8cd955401c08"
      },
      "execution_count": null,
      "outputs": [
        {
          "output_type": "stream",
          "name": "stdout",
          "text": [
            "+-------+------------------+------------+----------+----------+---------+------+---------+------------------+-----------------------+-------------------+---------+-------+----------------+------------------+--------+------------------+\n",
            "|summary|            emp_no|emp_title_id|birth_date|first_name|last_name|   sex|hire_date|    no_of_projects|Last_performance_rating|               left|last_date|dept_no|       dept_name|            salary|title_id|             title|\n",
            "+-------+------------------+------------+----------+----------+---------+------+---------+------------------+-----------------------+-------------------+---------+-------+----------------+------------------+--------+------------------+\n",
            "|  count|            331603|      331603|    331603|    331603|   331603|331603|   331603|            331603|                 331603|             331603|    33021| 331603|          331603|            331603|  331603|            331603|\n",
            "|   mean|253332.60502468314|        null|      null|      null|     null|  null|     null|5.5048567111877755|                   null|0.09957991936140505|     null|   null|            null| 52972.22543221865|    null|              null|\n",
            "| stddev|161831.91944548936|        null|      null|      null|     null|  null|     null| 2.872828503883309|                   null| 0.2994395254756696|     null|   null|            null|14299.003000805982|    null|              null|\n",
            "|    min|             10001|       e0001|  1/1/1953|     Aamer|   Aamodt|     F| 1/1/1985|                 1|                      A|                  0| 1/1/1987|   d001|Customer Service|             40000|   e0001|Assistant Engineer|\n",
            "|    max|            499999|       s0002|  9/9/1964|    Zvonko|  dAstous|     M| 9/9/1999|                10|                      S|                  1| 9/9/2008|   d009|     development|            129492|   s0002|  Technique Leader|\n",
            "+-------+------------------+------------+----------+----------+---------+------+---------+------------------+-----------------------+-------------------+---------+-------+----------------+------------------+--------+------------------+\n",
            "\n"
          ]
        }
      ]
    },
    {
      "cell_type": "code",
      "source": [
        "df_joins.count()"
      ],
      "metadata": {
        "colab": {
          "base_uri": "https://localhost:8080/"
        },
        "id": "w7bPjMxNPPK3",
        "outputId": "8ad7858d-ff95-4de3-d811-efc2e34a90d3"
      },
      "execution_count": null,
      "outputs": [
        {
          "output_type": "execute_result",
          "data": {
            "text/plain": [
              "331603"
            ]
          },
          "metadata": {},
          "execution_count": 31
        }
      ]
    },
    {
      "cell_type": "code",
      "source": [
        "df_joins.cache()"
      ],
      "metadata": {
        "colab": {
          "base_uri": "https://localhost:8080/"
        },
        "id": "4qdWjddYPPNa",
        "outputId": "1ac16499-4f9a-4f0c-9fe0-adc7b8db5ea1"
      },
      "execution_count": null,
      "outputs": [
        {
          "output_type": "execute_result",
          "data": {
            "text/plain": [
              "DataFrame[emp_no: int, emp_title_id: string, birth_date: string, first_name: string, last_name: string, sex: string, hire_date: string, no_of_projects: int, Last_performance_rating: string, left: int, last_date: string, dept_no: string, dept_name: string, salary: int, title_id: string, title: string]"
            ]
          },
          "metadata": {},
          "execution_count": 32
        }
      ]
    },
    {
      "cell_type": "code",
      "source": [
        "df = df_joins"
      ],
      "metadata": {
        "id": "jMVgI_eLPPT9"
      },
      "execution_count": 24,
      "outputs": []
    },
    {
      "cell_type": "code",
      "source": [
        "df.show(10)"
      ],
      "metadata": {
        "colab": {
          "base_uri": "https://localhost:8080/"
        },
        "id": "ZX8SCr-tPPWk",
        "outputId": "27ea7ec7-a057-4b23-ee01-035852c25a9e"
      },
      "execution_count": null,
      "outputs": [
        {
          "output_type": "stream",
          "name": "stdout",
          "text": [
            "+------+------------+----------+----------+---------+---+----------+--------------+-----------------------+----+---------+-------+------------------+------+--------+---------------+\n",
            "|emp_no|emp_title_id|birth_date|first_name|last_name|sex| hire_date|no_of_projects|Last_performance_rating|left|last_date|dept_no|         dept_name|salary|title_id|          title|\n",
            "+------+------------+----------+----------+---------+---+----------+--------------+-----------------------+----+---------+-------+------------------+------+--------+---------------+\n",
            "|473302|       s0001| 7/25/1953|  Hideyuki| Zallocco|  M| 4/28/1990|             2|                      A|   0|     null|   d002|           Finance| 40000|   s0001|          Staff|\n",
            "|475053|       e0002|11/18/1954|     Byong|Delgrande|  F|  9/7/1991|             1|                      C|   0|     null|   d004|        Production| 53422|   e0002|       Engineer|\n",
            "| 57444|       e0002| 1/30/1958|     Berry|     Babb|  F| 3/21/1992|             9|                      A|   0|     null|   d004|        Production| 48973|   e0002|       Engineer|\n",
            "|421786|       s0001| 9/28/1957|     Xiong| Verhoeff|  M|11/26/1987|             2|                      C|   0|     null|   d003|   Human Resources| 40000|   s0001|          Staff|\n",
            "|282238|       e0003|10/28/1952|Abdelkader|  Baumann|  F| 1/18/1991|             6|                      B|   0|     null|   d006|Quality Management| 40000|   e0003|Senior Engineer|\n",
            "|263976|       e0003|10/30/1959|      Eran| Cusworth|  M|11/14/1986|             8|                      B|   1|8/21/1993|   d006|Quality Management| 40000|   e0003|Senior Engineer|\n",
            "|273487|       s0001| 4/14/1957| Christoph|  Parfitt|  M| 6/28/1991|            10|                      A|   0|     null|   d003|   Human Resources| 56087|   s0001|          Staff|\n",
            "|461591|       s0002|11/17/1964|    Xudong| Samarati|  M|11/13/1985|             2|                      A|   1|8/21/1994|   d002|           Finance| 40000|   s0002|   Senior Staff|\n",
            "|477657|       e0002|12/18/1962|    Lihong|Magliocco|  M|10/23/1993|             5|                      A|   0|     null|   d006|Quality Management| 54816|   e0002|       Engineer|\n",
            "|219881|       s0002| 4/24/1956| Kwangyoen|    Speek|  F| 2/14/1993|             6|                      B|   0|     null|   d009|  Customer Service| 40000|   s0002|   Senior Staff|\n",
            "+------+------------+----------+----------+---------+---+----------+--------------+-----------------------+----+---------+-------+------------------+------+--------+---------------+\n",
            "only showing top 10 rows\n",
            "\n"
          ]
        }
      ]
    },
    {
      "cell_type": "code",
      "source": [
        "df.columns"
      ],
      "metadata": {
        "colab": {
          "base_uri": "https://localhost:8080/"
        },
        "id": "lR26RgnFbWOj",
        "outputId": "7edbc5d2-bc4c-4f0a-ce43-b1a0ba53f58e"
      },
      "execution_count": 25,
      "outputs": [
        {
          "output_type": "execute_result",
          "data": {
            "text/plain": [
              "['emp_no',\n",
              " 'emp_title_id',\n",
              " 'birth_date',\n",
              " 'first_name',\n",
              " 'last_name',\n",
              " 'sex',\n",
              " 'hire_date',\n",
              " 'no_of_projects',\n",
              " 'Last_performance_rating',\n",
              " 'left',\n",
              " 'last_date',\n",
              " 'dept_no',\n",
              " 'dept_name',\n",
              " 'salary',\n",
              " 'title_id',\n",
              " 'title']"
            ]
          },
          "metadata": {},
          "execution_count": 25
        }
      ]
    },
    {
      "cell_type": "code",
      "source": [
        "continuous_features = ['no_of_projects','salary']\n",
        "\n",
        "categorical_features = ['last_performance_ratings', 'dept_name', 'left_',\n",
        "                      'title']\n"
      ],
      "metadata": {
        "id": "TJNDb0tdb4U9"
      },
      "execution_count": 26,
      "outputs": []
    },
    {
      "cell_type": "code",
      "source": [
        "#Encoding all categorical features\n",
        "from pyspark.ml.feature import OneHotEncoder, StringIndexer, VectorAssembler, PolynomialExpansion, VectorIndexer"
      ],
      "metadata": {
        "id": "RnGBHA4hb4Xu"
      },
      "execution_count": 27,
      "outputs": []
    },
    {
      "cell_type": "code",
      "source": [
        "# create object of StringIndexer class and specify input and output column\n",
        "SI_Last_performance_rating = StringIndexer(inputCol='Last_performance_rating',outputCol='Last_performance_rating_Index')\n",
        "SI_dept_name = StringIndexer(inputCol='dept_name',outputCol='dept_name_Index')\n",
        "SI_left = StringIndexer(inputCol='left',outputCol='left_Index')\n",
        "SI_title = StringIndexer(inputCol='title',outputCol='title_Index')\n",
        "\n",
        "\n",
        "# transform the data\n",
        "df = SI_Last_performance_rating.fit(df).transform(df)\n",
        "df = SI_dept_name.fit(df).transform(df)\n",
        "df = SI_left.fit(df).transform(df)\n",
        "df = SI_title.fit(df).transform(df)"
      ],
      "metadata": {
        "id": "ySQxCihedy1B"
      },
      "execution_count": 28,
      "outputs": []
    },
    {
      "cell_type": "code",
      "source": [
        "df.select('Last_performance_rating','Last_performance_rating_Index','dept_name','dept_name_Index','left','left_Index','title','title_Index').show(10)"
      ],
      "metadata": {
        "colab": {
          "base_uri": "https://localhost:8080/"
        },
        "id": "9FZGLPTbdy4I",
        "outputId": "98152f5d-c435-4d5b-de73-15b0d5ecc88c"
      },
      "execution_count": 29,
      "outputs": [
        {
          "output_type": "stream",
          "name": "stdout",
          "text": [
            "+-----------------------+-----------------------------+------------------+---------------+----+----------+---------------+-----------+\n",
            "|Last_performance_rating|Last_performance_rating_Index|         dept_name|dept_name_Index|left|left_Index|          title|title_Index|\n",
            "+-----------------------+-----------------------------+------------------+---------------+----+----------+---------------+-----------+\n",
            "|                      A|                          1.0|           Finance|            8.0|   0|       0.0|          Staff|        0.0|\n",
            "|                      C|                          2.0|        Production|            1.0|   0|       0.0|       Engineer|        2.0|\n",
            "|                      A|                          1.0|        Production|            1.0|   0|       0.0|       Engineer|        2.0|\n",
            "|                      C|                          2.0|   Human Resources|            7.0|   0|       0.0|          Staff|        0.0|\n",
            "|                      B|                          0.0|Quality Management|            6.0|   0|       0.0|Senior Engineer|        1.0|\n",
            "|                      B|                          0.0|Quality Management|            6.0|   1|       1.0|Senior Engineer|        1.0|\n",
            "|                      A|                          1.0|   Human Resources|            7.0|   0|       0.0|          Staff|        0.0|\n",
            "|                      A|                          1.0|           Finance|            8.0|   1|       1.0|   Senior Staff|        3.0|\n",
            "|                      A|                          1.0|Quality Management|            6.0|   0|       0.0|       Engineer|        2.0|\n",
            "|                      B|                          0.0|  Customer Service|            3.0|   0|       0.0|   Senior Staff|        3.0|\n",
            "+-----------------------+-----------------------------+------------------+---------------+----+----------+---------------+-----------+\n",
            "only showing top 10 rows\n",
            "\n"
          ]
        }
      ]
    },
    {
      "cell_type": "code",
      "source": [
        "# create object and specify input and output column\n",
        "OHE = OneHotEncoder(inputCols=['Last_performance_rating_Index', 'dept_name_Index','left_Index', 'title_Index'],outputCols=['Last_performance_rating_vec', 'dept_name_vec','left_vec', 'title_vec'])\n",
        "\n",
        "# transform the data\n",
        "df = OHE.fit(df).transform(df)\n",
        "\n",
        "# view and transform the data\n",
        "df.select('Last_performance_rating','Last_performance_rating_Index','Last_performance_rating_vec','dept_name','dept_name_Index','dept_name_vec','left','left_Index','left_vec','title','title_Index','title_vec').show(10)\n"
      ],
      "metadata": {
        "colab": {
          "base_uri": "https://localhost:8080/"
        },
        "id": "XEuC65dhdy61",
        "outputId": "7e9f607b-e750-4b00-dab7-284d80d77654"
      },
      "execution_count": 30,
      "outputs": [
        {
          "output_type": "stream",
          "name": "stdout",
          "text": [
            "+-----------------------+-----------------------------+---------------------------+------------------+---------------+-------------+----+----------+-------------+---------------+-----------+-------------+\n",
            "|Last_performance_rating|Last_performance_rating_Index|Last_performance_rating_vec|         dept_name|dept_name_Index|dept_name_vec|left|left_Index|     left_vec|          title|title_Index|    title_vec|\n",
            "+-----------------------+-----------------------------+---------------------------+------------------+---------------+-------------+----+----------+-------------+---------------+-----------+-------------+\n",
            "|                      A|                          1.0|              (4,[1],[1.0])|           Finance|            8.0|    (8,[],[])|   0|       0.0|(1,[0],[1.0])|          Staff|        0.0|(6,[0],[1.0])|\n",
            "|                      C|                          2.0|              (4,[2],[1.0])|        Production|            1.0|(8,[1],[1.0])|   0|       0.0|(1,[0],[1.0])|       Engineer|        2.0|(6,[2],[1.0])|\n",
            "|                      A|                          1.0|              (4,[1],[1.0])|        Production|            1.0|(8,[1],[1.0])|   0|       0.0|(1,[0],[1.0])|       Engineer|        2.0|(6,[2],[1.0])|\n",
            "|                      C|                          2.0|              (4,[2],[1.0])|   Human Resources|            7.0|(8,[7],[1.0])|   0|       0.0|(1,[0],[1.0])|          Staff|        0.0|(6,[0],[1.0])|\n",
            "|                      B|                          0.0|              (4,[0],[1.0])|Quality Management|            6.0|(8,[6],[1.0])|   0|       0.0|(1,[0],[1.0])|Senior Engineer|        1.0|(6,[1],[1.0])|\n",
            "|                      B|                          0.0|              (4,[0],[1.0])|Quality Management|            6.0|(8,[6],[1.0])|   1|       1.0|    (1,[],[])|Senior Engineer|        1.0|(6,[1],[1.0])|\n",
            "|                      A|                          1.0|              (4,[1],[1.0])|   Human Resources|            7.0|(8,[7],[1.0])|   0|       0.0|(1,[0],[1.0])|          Staff|        0.0|(6,[0],[1.0])|\n",
            "|                      A|                          1.0|              (4,[1],[1.0])|           Finance|            8.0|    (8,[],[])|   1|       1.0|    (1,[],[])|   Senior Staff|        3.0|(6,[3],[1.0])|\n",
            "|                      A|                          1.0|              (4,[1],[1.0])|Quality Management|            6.0|(8,[6],[1.0])|   0|       0.0|(1,[0],[1.0])|       Engineer|        2.0|(6,[2],[1.0])|\n",
            "|                      B|                          0.0|              (4,[0],[1.0])|  Customer Service|            3.0|(8,[3],[1.0])|   0|       0.0|(1,[0],[1.0])|   Senior Staff|        3.0|(6,[3],[1.0])|\n",
            "+-----------------------+-----------------------------+---------------------------+------------------+---------------+-------------+----+----------+-------------+---------------+-----------+-------------+\n",
            "only showing top 10 rows\n",
            "\n"
          ]
        }
      ]
    },
    {
      "cell_type": "code",
      "source": [
        "df.printSchema()"
      ],
      "metadata": {
        "colab": {
          "base_uri": "https://localhost:8080/"
        },
        "id": "LtOMhdOShvL1",
        "outputId": "f9f24085-9df8-442b-dc33-1b92d28c47e2"
      },
      "execution_count": null,
      "outputs": [
        {
          "output_type": "stream",
          "name": "stdout",
          "text": [
            "root\n",
            " |-- emp_no: integer (nullable = true)\n",
            " |-- emp_title_id: string (nullable = true)\n",
            " |-- birth_date: string (nullable = true)\n",
            " |-- first_name: string (nullable = true)\n",
            " |-- last_name: string (nullable = true)\n",
            " |-- sex: string (nullable = true)\n",
            " |-- hire_date: string (nullable = true)\n",
            " |-- no_of_projects: integer (nullable = true)\n",
            " |-- Last_performance_rating: string (nullable = true)\n",
            " |-- left: integer (nullable = true)\n",
            " |-- last_date: string (nullable = true)\n",
            " |-- dept_no: string (nullable = true)\n",
            " |-- dept_name: string (nullable = true)\n",
            " |-- salary: integer (nullable = true)\n",
            " |-- title_id: string (nullable = true)\n",
            " |-- title: string (nullable = true)\n",
            " |-- Last_performance_rating_Index: double (nullable = false)\n",
            " |-- dept_name_Index: double (nullable = false)\n",
            " |-- left_Index: double (nullable = false)\n",
            " |-- title_Index: double (nullable = false)\n",
            " |-- Last_performance_rating_vec: vector (nullable = true)\n",
            " |-- dept_name_vec: vector (nullable = true)\n",
            " |-- left_vec: vector (nullable = true)\n",
            " |-- title_vec: vector (nullable = true)\n",
            "\n"
          ]
        }
      ]
    },
    {
      "cell_type": "code",
      "source": [
        "featureCols = continuous_features + ['Last_performance_rating_vec', 'dept_name_vec','left_vec', 'title_vec']"
      ],
      "metadata": {
        "id": "pPqq4Vcrdy9Z"
      },
      "execution_count": 31,
      "outputs": []
    },
    {
      "cell_type": "code",
      "source": [
        "featureCols"
      ],
      "metadata": {
        "colab": {
          "base_uri": "https://localhost:8080/"
        },
        "id": "3GYXvQ1ldy_v",
        "outputId": "bf61ebf7-fee1-4d3b-ac94-1c849c5a8868"
      },
      "execution_count": 32,
      "outputs": [
        {
          "output_type": "execute_result",
          "data": {
            "text/plain": [
              "['no_of_projects',\n",
              " 'salary',\n",
              " 'Last_performance_rating_vec',\n",
              " 'dept_name_vec',\n",
              " 'left_vec',\n",
              " 'title_vec']"
            ]
          },
          "metadata": {},
          "execution_count": 32
        }
      ]
    },
    {
      "cell_type": "code",
      "source": [
        "assembler = VectorAssembler( inputCols = featureCols, outputCol = \"features\")"
      ],
      "metadata": {
        "id": "xD5XH-xndzCV"
      },
      "execution_count": 33,
      "outputs": []
    },
    {
      "cell_type": "code",
      "source": [
        "df_joins = assembler.transform( df )"
      ],
      "metadata": {
        "id": "Hg_XDOYYdzEh"
      },
      "execution_count": 34,
      "outputs": []
    },
    {
      "cell_type": "code",
      "source": [
        "df_joins.show( 10 , truncate=False)"
      ],
      "metadata": {
        "colab": {
          "base_uri": "https://localhost:8080/"
        },
        "id": "pBgxU8fWdzGn",
        "outputId": "17104573-d0fc-4322-de98-dc7b692fdae8"
      },
      "execution_count": 36,
      "outputs": [
        {
          "output_type": "stream",
          "name": "stdout",
          "text": [
            "+------+------------+----------+----------+---------+---+----------+--------------+-----------------------+----+---------+-------+------------------+------+--------+---------------+-----------------------------+---------------+----------+-----------+---------------------------+-------------+-------------+-------------+----------------------------------------------------+\n",
            "|emp_no|emp_title_id|birth_date|first_name|last_name|sex|hire_date |no_of_projects|Last_performance_rating|left|last_date|dept_no|dept_name         |salary|title_id|title          |Last_performance_rating_Index|dept_name_Index|left_Index|title_Index|Last_performance_rating_vec|dept_name_vec|left_vec     |title_vec    |features                                            |\n",
            "+------+------------+----------+----------+---------+---+----------+--------------+-----------------------+----+---------+-------+------------------+------+--------+---------------+-----------------------------+---------------+----------+-----------+---------------------------+-------------+-------------+-------------+----------------------------------------------------+\n",
            "|473302|s0001       |7/25/1953 |Hideyuki  |Zallocco |M  |4/28/1990 |2             |A                      |0   |null     |d002   |Finance           |40000 |s0001   |Staff          |1.0                          |8.0            |0.0       |0.0        |(4,[1],[1.0])              |(8,[],[])    |(1,[0],[1.0])|(6,[0],[1.0])|(21,[0,1,3,14,15],[2.0,40000.0,1.0,1.0,1.0])        |\n",
            "|475053|e0002       |11/18/1954|Byong     |Delgrande|F  |9/7/1991  |1             |C                      |0   |null     |d004   |Production        |53422 |e0002   |Engineer       |2.0                          |1.0            |0.0       |2.0        |(4,[2],[1.0])              |(8,[1],[1.0])|(1,[0],[1.0])|(6,[2],[1.0])|(21,[0,1,4,7,14,17],[1.0,53422.0,1.0,1.0,1.0,1.0])  |\n",
            "|57444 |e0002       |1/30/1958 |Berry     |Babb     |F  |3/21/1992 |9             |A                      |0   |null     |d004   |Production        |48973 |e0002   |Engineer       |1.0                          |1.0            |0.0       |2.0        |(4,[1],[1.0])              |(8,[1],[1.0])|(1,[0],[1.0])|(6,[2],[1.0])|(21,[0,1,3,7,14,17],[9.0,48973.0,1.0,1.0,1.0,1.0])  |\n",
            "|421786|s0001       |9/28/1957 |Xiong     |Verhoeff |M  |11/26/1987|2             |C                      |0   |null     |d003   |Human Resources   |40000 |s0001   |Staff          |2.0                          |7.0            |0.0       |0.0        |(4,[2],[1.0])              |(8,[7],[1.0])|(1,[0],[1.0])|(6,[0],[1.0])|(21,[0,1,4,13,14,15],[2.0,40000.0,1.0,1.0,1.0,1.0]) |\n",
            "|282238|e0003       |10/28/1952|Abdelkader|Baumann  |F  |1/18/1991 |6             |B                      |0   |null     |d006   |Quality Management|40000 |e0003   |Senior Engineer|0.0                          |6.0            |0.0       |1.0        |(4,[0],[1.0])              |(8,[6],[1.0])|(1,[0],[1.0])|(6,[1],[1.0])|(21,[0,1,2,12,14,16],[6.0,40000.0,1.0,1.0,1.0,1.0]) |\n",
            "|263976|e0003       |10/30/1959|Eran      |Cusworth |M  |11/14/1986|8             |B                      |1   |8/21/1993|d006   |Quality Management|40000 |e0003   |Senior Engineer|0.0                          |6.0            |1.0       |1.0        |(4,[0],[1.0])              |(8,[6],[1.0])|(1,[],[])    |(6,[1],[1.0])|(21,[0,1,2,12,16],[8.0,40000.0,1.0,1.0,1.0])        |\n",
            "|273487|s0001       |4/14/1957 |Christoph |Parfitt  |M  |6/28/1991 |10            |A                      |0   |null     |d003   |Human Resources   |56087 |s0001   |Staff          |1.0                          |7.0            |0.0       |0.0        |(4,[1],[1.0])              |(8,[7],[1.0])|(1,[0],[1.0])|(6,[0],[1.0])|(21,[0,1,3,13,14,15],[10.0,56087.0,1.0,1.0,1.0,1.0])|\n",
            "|461591|s0002       |11/17/1964|Xudong    |Samarati |M  |11/13/1985|2             |A                      |1   |8/21/1994|d002   |Finance           |40000 |s0002   |Senior Staff   |1.0                          |8.0            |1.0       |3.0        |(4,[1],[1.0])              |(8,[],[])    |(1,[],[])    |(6,[3],[1.0])|(21,[0,1,3,18],[2.0,40000.0,1.0,1.0])               |\n",
            "|477657|e0002       |12/18/1962|Lihong    |Magliocco|M  |10/23/1993|5             |A                      |0   |null     |d006   |Quality Management|54816 |e0002   |Engineer       |1.0                          |6.0            |0.0       |2.0        |(4,[1],[1.0])              |(8,[6],[1.0])|(1,[0],[1.0])|(6,[2],[1.0])|(21,[0,1,3,12,14,17],[5.0,54816.0,1.0,1.0,1.0,1.0]) |\n",
            "|219881|s0002       |4/24/1956 |Kwangyoen |Speek    |F  |2/14/1993 |6             |B                      |0   |null     |d009   |Customer Service  |40000 |s0002   |Senior Staff   |0.0                          |3.0            |0.0       |3.0        |(4,[0],[1.0])              |(8,[3],[1.0])|(1,[0],[1.0])|(6,[3],[1.0])|(21,[0,1,2,9,14,18],[6.0,40000.0,1.0,1.0,1.0,1.0])  |\n",
            "+------+------------+----------+----------+---------+---+----------+--------------+-----------------------+----+---------+-------+------------------+------+--------+---------------+-----------------------------+---------------+----------+-----------+---------------------------+-------------+-------------+-------------+----------------------------------------------------+\n",
            "only showing top 10 rows\n",
            "\n"
          ]
        }
      ]
    },
    {
      "cell_type": "code",
      "source": [
        "df_joins = df_joins.withColumn( \"label\", df.left.cast( 'int' ) )"
      ],
      "metadata": {
        "id": "5BzfeZz2jS40"
      },
      "execution_count": 38,
      "outputs": []
    },
    {
      "cell_type": "code",
      "source": [
        "train_df, test_df = df_joins.randomSplit( [0.7, 0.3], seed = 42 )"
      ],
      "metadata": {
        "id": "GrHO_-FXjS9q"
      },
      "execution_count": 39,
      "outputs": []
    },
    {
      "cell_type": "code",
      "source": [
        "train_df.show(5, truncate=False)"
      ],
      "metadata": {
        "colab": {
          "base_uri": "https://localhost:8080/"
        },
        "id": "-mquCmAqjTEK",
        "outputId": "1245a328-4736-4972-f3b5-2409d1b86895"
      },
      "execution_count": 40,
      "outputs": [
        {
          "output_type": "stream",
          "name": "stdout",
          "text": [
            "+------+------------+----------+----------+---------+---+----------+--------------+-----------------------+----+---------+-------+------------------+------+--------+------------------+-----------------------------+---------------+----------+-----------+---------------------------+-------------+-------------+-------------+---------------------------------------------------+-----+\n",
            "|emp_no|emp_title_id|birth_date|first_name|last_name|sex|hire_date |no_of_projects|Last_performance_rating|left|last_date|dept_no|dept_name         |salary|title_id|title             |Last_performance_rating_Index|dept_name_Index|left_Index|title_Index|Last_performance_rating_vec|dept_name_vec|left_vec     |title_vec    |features                                           |label|\n",
            "+------+------------+----------+----------+---------+---+----------+--------------+-----------------------+----+---------+-------+------------------+------+--------+------------------+-----------------------------+---------------+----------+-----------+---------------------------+-------------+-------------+-------------+---------------------------------------------------+-----+\n",
            "|10002 |s0001       |6/2/1964  |Bezalel   |Simmel   |F  |11/21/1985|8             |B                      |0   |null     |d007   |Sales             |65828 |s0001   |Staff             |0.0                          |2.0            |0.0       |0.0        |(4,[0],[1.0])              |(8,[2],[1.0])|(1,[0],[1.0])|(6,[0],[1.0])|(21,[0,1,2,8,14,15],[8.0,65828.0,1.0,1.0,1.0,1.0]) |0    |\n",
            "|10003 |e0003       |12/3/1959 |Parto     |Bamford  |M  |8/28/1986 |1             |C                      |0   |null     |d004   |Production        |40006 |e0003   |Senior Engineer   |2.0                          |1.0            |0.0       |1.0        |(4,[2],[1.0])              |(8,[1],[1.0])|(1,[0],[1.0])|(6,[1],[1.0])|(21,[0,1,4,7,14,16],[1.0,40006.0,1.0,1.0,1.0,1.0]) |0    |\n",
            "|10008 |e0001       |2/19/1958 |Saniya    |Kalloufi |M  |9/15/1994 |9             |C                      |0   |null     |d005   |development       |46671 |e0001   |Assistant Engineer|2.0                          |0.0            |0.0       |5.0        |(4,[2],[1.0])              |(8,[0],[1.0])|(1,[0],[1.0])|(6,[5],[1.0])|(21,[0,1,4,6,14,20],[9.0,46671.0,1.0,1.0,1.0,1.0]) |0    |\n",
            "|10010 |e0002       |6/1/1963  |Duangkaew |Piveteau |F  |8/24/1989 |4             |A                      |0   |null     |d004   |Production        |72488 |e0002   |Engineer          |1.0                          |1.0            |0.0       |2.0        |(4,[1],[1.0])              |(8,[1],[1.0])|(1,[0],[1.0])|(6,[2],[1.0])|(21,[0,1,3,7,14,17],[4.0,72488.0,1.0,1.0,1.0,1.0]) |0    |\n",
            "|10010 |e0002       |6/1/1963  |Duangkaew |Piveteau |F  |8/24/1989 |4             |A                      |0   |null     |d006   |Quality Management|72488 |e0002   |Engineer          |1.0                          |6.0            |0.0       |2.0        |(4,[1],[1.0])              |(8,[6],[1.0])|(1,[0],[1.0])|(6,[2],[1.0])|(21,[0,1,3,12,14,17],[4.0,72488.0,1.0,1.0,1.0,1.0])|0    |\n",
            "+------+------------+----------+----------+---------+---+----------+--------------+-----------------------+----+---------+-------+------------------+------+--------+------------------+-----------------------------+---------------+----------+-----------+---------------------------+-------------+-------------+-------------+---------------------------------------------------+-----+\n",
            "only showing top 5 rows\n",
            "\n"
          ]
        }
      ]
    },
    {
      "cell_type": "code",
      "source": [
        "from pyspark.ml.regression import LinearRegression"
      ],
      "metadata": {
        "id": "n0HRRxVDjulp"
      },
      "execution_count": 41,
      "outputs": []
    },
    {
      "cell_type": "code",
      "source": [
        "linreg = LinearRegression()"
      ],
      "metadata": {
        "id": "aScnz4M3jupQ"
      },
      "execution_count": 42,
      "outputs": []
    },
    {
      "cell_type": "code",
      "source": [
        "lm = linreg.fit( train_df )"
      ],
      "metadata": {
        "id": "pYyo10Guj9qr"
      },
      "execution_count": 43,
      "outputs": []
    },
    {
      "cell_type": "code",
      "source": [
        "lm.intercept"
      ],
      "metadata": {
        "colab": {
          "base_uri": "https://localhost:8080/"
        },
        "id": "Kfho_wiFjuuQ",
        "outputId": "9bef4a8c-f760-4d80-ac08-b49c564d492b"
      },
      "execution_count": 44,
      "outputs": [
        {
          "output_type": "execute_result",
          "data": {
            "text/plain": [
              "1.0000000000022824"
            ]
          },
          "metadata": {},
          "execution_count": 44
        }
      ]
    },
    {
      "cell_type": "code",
      "source": [
        "lm.coefficients"
      ],
      "metadata": {
        "colab": {
          "base_uri": "https://localhost:8080/"
        },
        "id": "MFrk9CGdju2c",
        "outputId": "f875d728-27a9-49f2-d68d-494824f709de"
      },
      "execution_count": 45,
      "outputs": [
        {
          "output_type": "execute_result",
          "data": {
            "text/plain": [
              "DenseVector([-0.0, -0.0, -0.0, -0.0, -0.0, -0.0, 0.0, 0.0, -0.0, -0.0, -0.0, -0.0, 0.0, -0.0, -1.0, -0.0, -0.0, -0.0, -0.0, -0.0, -0.0])"
            ]
          },
          "metadata": {},
          "execution_count": 45
        }
      ]
    },
    {
      "cell_type": "code",
      "source": [
        "#Make predictions on train data and evaluate\n",
        "y_pred_train = lm.transform(train_df)"
      ],
      "metadata": {
        "id": "bcZVQAJFju5z"
      },
      "execution_count": 46,
      "outputs": []
    },
    {
      "cell_type": "code",
      "source": [
        "y_pred_train.show(10)"
      ],
      "metadata": {
        "colab": {
          "base_uri": "https://localhost:8080/"
        },
        "id": "NBpp8QhkkSXD",
        "outputId": "a517b02a-c96a-42fe-8c5c-6fc7abd67b3a"
      },
      "execution_count": 47,
      "outputs": [
        {
          "output_type": "stream",
          "name": "stdout",
          "text": [
            "+------+------------+----------+----------+---------+---+----------+--------------+-----------------------+----+---------+-------+------------------+------+--------+------------------+-----------------------------+---------------+----------+-----------+---------------------------+-------------+-------------+-------------+--------------------+-----+--------------------+\n",
            "|emp_no|emp_title_id|birth_date|first_name|last_name|sex| hire_date|no_of_projects|Last_performance_rating|left|last_date|dept_no|         dept_name|salary|title_id|             title|Last_performance_rating_Index|dept_name_Index|left_Index|title_Index|Last_performance_rating_vec|dept_name_vec|     left_vec|    title_vec|            features|label|          prediction|\n",
            "+------+------------+----------+----------+---------+---+----------+--------------+-----------------------+----+---------+-------+------------------+------+--------+------------------+-----------------------------+---------------+----------+-----------+---------------------------+-------------+-------------+-------------+--------------------+-----+--------------------+\n",
            "| 10002|       s0001|  6/2/1964|   Bezalel|   Simmel|  F|11/21/1985|             8|                      B|   0|     null|   d007|             Sales| 65828|   s0001|             Staff|                          0.0|            2.0|       0.0|        0.0|              (4,[0],[1.0])|(8,[2],[1.0])|(1,[0],[1.0])|(6,[0],[1.0])|(21,[0,1,2,8,14,1...|    0|-8.88178419700125...|\n",
            "| 10003|       e0003| 12/3/1959|     Parto|  Bamford|  M| 8/28/1986|             1|                      C|   0|     null|   d004|        Production| 40006|   e0003|   Senior Engineer|                          2.0|            1.0|       0.0|        1.0|              (4,[2],[1.0])|(8,[1],[1.0])|(1,[0],[1.0])|(6,[1],[1.0])|(21,[0,1,4,7,14,1...|    0|2.220446049250313...|\n",
            "| 10008|       e0001| 2/19/1958|    Saniya| Kalloufi|  M| 9/15/1994|             9|                      C|   0|     null|   d005|       development| 46671|   e0001|Assistant Engineer|                          2.0|            0.0|       0.0|        5.0|              (4,[2],[1.0])|(8,[0],[1.0])|(1,[0],[1.0])|(6,[5],[1.0])|(21,[0,1,4,6,14,2...|    0|-6.66133814775093...|\n",
            "| 10010|       e0002|  6/1/1963| Duangkaew| Piveteau|  F| 8/24/1989|             4|                      A|   0|     null|   d004|        Production| 72488|   e0002|          Engineer|                          1.0|            1.0|       0.0|        2.0|              (4,[1],[1.0])|(8,[1],[1.0])|(1,[0],[1.0])|(6,[2],[1.0])|(21,[0,1,3,7,14,1...|    0|-1.33226762955018...|\n",
            "| 10010|       e0002|  6/1/1963| Duangkaew| Piveteau|  F| 8/24/1989|             4|                      A|   0|     null|   d006|Quality Management| 72488|   e0002|          Engineer|                          1.0|            6.0|       0.0|        2.0|              (4,[1],[1.0])|(8,[6],[1.0])|(1,[0],[1.0])|(6,[2],[1.0])|(21,[0,1,3,12,14,...|    0|-1.33226762955018...|\n",
            "| 10014|       e0002| 2/12/1956|     Berni|    Genin|  M| 3/11/1987|             9|                      B|   0|     null|   d005|       development| 46168|   e0002|          Engineer|                          0.0|            0.0|       0.0|        2.0|              (4,[0],[1.0])|(8,[0],[1.0])|(1,[0],[1.0])|(6,[2],[1.0])|(21,[0,1,2,6,14,1...|    0|-1.11022302462515...|\n",
            "| 10017|       s0001|  7/6/1958| Cristinel|Bouloucos|  F|  8/3/1993|            10|                      A|   0|     null|   d001|         Marketing| 71380|   s0001|             Staff|                          1.0|            5.0|       0.0|        0.0|              (4,[1],[1.0])|(8,[5],[1.0])|(1,[0],[1.0])|(6,[0],[1.0])|(21,[0,1,3,11,14,...|    0|-1.55431223447521...|\n",
            "| 10018|       e0003| 6/19/1954|  Kazuhide|     Peha|  F|  4/3/1987|             4|                      B|   0|     null|   d004|        Production| 55881|   e0003|   Senior Engineer|                          0.0|            1.0|       0.0|        1.0|              (4,[0],[1.0])|(8,[1],[1.0])|(1,[0],[1.0])|(6,[1],[1.0])|(21,[0,1,2,7,14,1...|    0|-4.44089209850062...|\n",
            "| 10018|       e0003| 6/19/1954|  Kazuhide|     Peha|  F|  4/3/1987|             4|                      B|   0|     null|   d005|       development| 55881|   e0003|   Senior Engineer|                          0.0|            0.0|       0.0|        1.0|              (4,[0],[1.0])|(8,[0],[1.0])|(1,[0],[1.0])|(6,[1],[1.0])|(21,[0,1,2,6,14,1...|    0|-2.22044604925031...|\n",
            "| 10027|       e0003| 7/10/1962|    Divier|  Reistad|  F|  7/7/1989|            10|                      B|   0|     null|   d005|       development| 40000|   e0003|   Senior Engineer|                          0.0|            0.0|       0.0|        1.0|              (4,[0],[1.0])|(8,[0],[1.0])|(1,[0],[1.0])|(6,[1],[1.0])|(21,[0,1,2,6,14,1...|    0|-6.66133814775093...|\n",
            "+------+------------+----------+----------+---------+---+----------+--------------+-----------------------+----+---------+-------+------------------+------+--------+------------------+-----------------------------+---------------+----------+-----------+---------------------------+-------------+-------------+-------------+--------------------+-----+--------------------+\n",
            "only showing top 10 rows\n",
            "\n"
          ]
        }
      ]
    },
    {
      "cell_type": "code",
      "source": [
        "#Make predictions on test data and evaluate\n",
        "y_pred_test = lm.transform( test_df )"
      ],
      "metadata": {
        "id": "N7UoozNPkSaB"
      },
      "execution_count": 48,
      "outputs": []
    },
    {
      "cell_type": "code",
      "source": [
        "y_pred_test.show(10, truncate=False)"
      ],
      "metadata": {
        "colab": {
          "base_uri": "https://localhost:8080/"
        },
        "id": "amwCLGKFkScm",
        "outputId": "bbc2bbf1-b3ad-45dd-8d48-81f857cc2639"
      },
      "execution_count": 49,
      "outputs": [
        {
          "output_type": "stream",
          "name": "stdout",
          "text": [
            "+------+------------+----------+----------+-----------+---+----------+--------------+-----------------------+----+---------+-------+------------------+------+--------+----------------+-----------------------------+---------------+----------+-----------+---------------------------+-------------+-------------+-------------+---------------------------------------------------+-----+-----------------------+\n",
            "|emp_no|emp_title_id|birth_date|first_name|last_name  |sex|hire_date |no_of_projects|Last_performance_rating|left|last_date|dept_no|dept_name         |salary|title_id|title           |Last_performance_rating_Index|dept_name_Index|left_Index|title_Index|Last_performance_rating_vec|dept_name_vec|left_vec     |title_vec    |features                                           |label|prediction             |\n",
            "+------+------------+----------+----------+-----------+---+----------+--------------+-----------------------+----+---------+-------+------------------+------+--------+----------------+-----------------------------+---------------+----------+-----------+---------------------------+-------------+-------------+-------------+---------------------------------------------------+-----+-----------------------+\n",
            "|10005 |s0001       |1/21/1955 |Kyoichi   |Maliniak   |M  |9/12/1989 |6             |A                      |0   |null     |d003   |Human Resources   |78228 |s0001   |Staff           |1.0                          |7.0            |0.0       |0.0        |(4,[1],[1.0])              |(8,[7],[1.0])|(1,[0],[1.0])|(6,[0],[1.0])|(21,[0,1,3,13,14,15],[6.0,78228.0,1.0,1.0,1.0,1.0])|0    |-1.1102230246251565E-15|\n",
            "|10013 |s0002       |6/7/1963  |Eberhardt |Terkki     |M  |10/20/1985|6             |C                      |0   |null     |d003   |Human Resources   |40000 |s0002   |Senior Staff    |2.0                          |7.0            |0.0       |3.0        |(4,[2],[1.0])              |(8,[7],[1.0])|(1,[0],[1.0])|(6,[3],[1.0])|(21,[0,1,4,13,14,18],[6.0,40000.0,1.0,1.0,1.0,1.0])|0    |-6.661338147750939E-16 |\n",
            "|10015 |s0002       |8/19/1959 |Guoxiang  |Nooteboom  |M  |7/2/1987  |4             |B                      |0   |null     |d008   |Research          |40000 |s0002   |Senior Staff    |0.0                          |4.0            |0.0       |3.0        |(4,[0],[1.0])              |(8,[4],[1.0])|(1,[0],[1.0])|(6,[3],[1.0])|(21,[0,1,2,10,14,18],[4.0,40000.0,1.0,1.0,1.0,1.0])|0    |2.220446049250313E-16  |\n",
            "|10016 |s0001       |5/2/1961  |Kazuhito  |Cappelletti|M  |1/27/1995 |5             |C                      |0   |null     |d007   |Sales             |70889 |s0001   |Staff           |2.0                          |2.0            |0.0       |0.0        |(4,[2],[1.0])              |(8,[2],[1.0])|(1,[0],[1.0])|(6,[0],[1.0])|(21,[0,1,4,8,14,15],[5.0,70889.0,1.0,1.0,1.0,1.0]) |0    |-6.661338147750939E-16 |\n",
            "|10019 |s0001       |1/23/1953 |Lillian   |Haddadi    |M  |4/30/1999 |4             |B                      |0   |null     |d008   |Research          |44276 |s0001   |Staff           |0.0                          |4.0            |0.0       |0.0        |(4,[0],[1.0])              |(8,[4],[1.0])|(1,[0],[1.0])|(6,[0],[1.0])|(21,[0,1,2,10,14,15],[4.0,44276.0,1.0,1.0,1.0,1.0])|0    |4.440892098500626E-16  |\n",
            "|10022 |e0002       |7/8/1952  |Shahaf    |Famili     |M  |8/22/1995 |9             |B                      |1   |11/4/2005|d005   |development       |40000 |e0002   |Engineer        |0.0                          |0.0            |1.0       |2.0        |(4,[0],[1.0])              |(8,[0],[1.0])|(1,[],[])    |(6,[2],[1.0])|(21,[0,1,2,6,17],[9.0,40000.0,1.0,1.0,1.0])        |1    |1.000000000000001      |\n",
            "|10023 |e0002       |9/29/1953 |Bojan     |Montemayor |F  |12/17/1989|8             |A                      |0   |null     |d005   |development       |47883 |e0002   |Engineer        |1.0                          |0.0            |0.0       |2.0        |(4,[1],[1.0])              |(8,[0],[1.0])|(1,[0],[1.0])|(6,[2],[1.0])|(21,[0,1,3,6,14,17],[8.0,47883.0,1.0,1.0,1.0,1.0]) |0    |-1.1102230246251565E-15|\n",
            "|10033 |e0004       |11/14/1956|Arif      |Merlo      |M  |3/18/1987 |9             |A                      |0   |null     |d006   |Quality Management|51258 |e0004   |Technique Leader|1.0                          |6.0            |0.0       |4.0        |(4,[1],[1.0])              |(8,[6],[1.0])|(1,[0],[1.0])|(6,[4],[1.0])|(21,[0,1,3,12,14,19],[9.0,51258.0,1.0,1.0,1.0,1.0])|0    |-1.1102230246251565E-15|\n",
            "|10035 |e0003       |2/8/1953  |Alain     |Chappelet  |M  |9/5/1988  |6             |B                      |0   |null     |d004   |Production        |41538 |e0003   |Senior Engineer |0.0                          |1.0            |0.0       |1.0        |(4,[0],[1.0])              |(8,[1],[1.0])|(1,[0],[1.0])|(6,[1],[1.0])|(21,[0,1,2,7,14,16],[6.0,41538.0,1.0,1.0,1.0,1.0]) |0    |-4.440892098500626E-16 |\n",
            "|10040 |e0003       |9/13/1959 |Weiyi     |Meriste    |F  |2/14/1993 |6             |A                      |0   |null     |d005   |development       |52153 |e0003   |Senior Engineer |1.0                          |0.0            |0.0       |1.0        |(4,[1],[1.0])              |(8,[0],[1.0])|(1,[0],[1.0])|(6,[1],[1.0])|(21,[0,1,3,6,14,16],[6.0,52153.0,1.0,1.0,1.0,1.0]) |0    |-4.440892098500626E-16 |\n",
            "+------+------------+----------+----------+-----------+---+----------+--------------+-----------------------+----+---------+-------+------------------+------+--------+----------------+-----------------------------+---------------+----------+-----------+---------------------------+-------------+-------------+-------------+---------------------------------------------------+-----+-----------------------+\n",
            "only showing top 10 rows\n",
            "\n"
          ]
        }
      ]
    },
    {
      "cell_type": "code",
      "source": [
        "y_pred_test.select( 'features',  'label', 'prediction', 'left' ).show( 10 )"
      ],
      "metadata": {
        "colab": {
          "base_uri": "https://localhost:8080/"
        },
        "id": "pH2Fya7EkSfj",
        "outputId": "f30fb63b-9640-49c4-846c-41c150fb8d66"
      },
      "execution_count": 50,
      "outputs": [
        {
          "output_type": "stream",
          "name": "stdout",
          "text": [
            "+--------------------+-----+--------------------+----+\n",
            "|            features|label|          prediction|left|\n",
            "+--------------------+-----+--------------------+----+\n",
            "|(21,[0,1,3,13,14,...|    0|-1.11022302462515...|   0|\n",
            "|(21,[0,1,4,13,14,...|    0|-6.66133814775093...|   0|\n",
            "|(21,[0,1,2,10,14,...|    0|2.220446049250313...|   0|\n",
            "|(21,[0,1,4,8,14,1...|    0|-6.66133814775093...|   0|\n",
            "|(21,[0,1,2,10,14,...|    0|4.440892098500626...|   0|\n",
            "|(21,[0,1,2,6,17],...|    1|   1.000000000000001|   1|\n",
            "|(21,[0,1,3,6,14,1...|    0|-1.11022302462515...|   0|\n",
            "|(21,[0,1,3,12,14,...|    0|-1.11022302462515...|   0|\n",
            "|(21,[0,1,2,7,14,1...|    0|-4.44089209850062...|   0|\n",
            "|(21,[0,1,3,6,14,1...|    0|-4.44089209850062...|   0|\n",
            "+--------------------+-----+--------------------+----+\n",
            "only showing top 10 rows\n",
            "\n"
          ]
        }
      ]
    },
    {
      "cell_type": "code",
      "source": [
        "from pyspark.ml.evaluation import RegressionEvaluator"
      ],
      "metadata": {
        "id": "wcSzBZTDkSh1"
      },
      "execution_count": 51,
      "outputs": []
    },
    {
      "cell_type": "code",
      "source": [
        "rmse_evaluator = RegressionEvaluator(labelCol=\"label\",\n",
        "                            predictionCol=\"prediction\",\n",
        "                            metricName=\"rmse\" )"
      ],
      "metadata": {
        "id": "wSbe4Yy2pwev"
      },
      "execution_count": 52,
      "outputs": []
    },
    {
      "cell_type": "code",
      "source": [
        "lm_rmse = rmse_evaluator.evaluate( y_pred_test)\n",
        "lm_rmse"
      ],
      "metadata": {
        "colab": {
          "base_uri": "https://localhost:8080/"
        },
        "id": "Qj_ZntC2pwlA",
        "outputId": "f6dcc771-d00e-4a82-b996-a92105c455ec"
      },
      "execution_count": 53,
      "outputs": [
        {
          "output_type": "execute_result",
          "data": {
            "text/plain": [
              "2.6024160854175806e-14"
            ]
          },
          "metadata": {},
          "execution_count": 53
        }
      ]
    },
    {
      "cell_type": "code",
      "source": [
        "r2_evaluator = RegressionEvaluator(labelCol=\"label\",\n",
        "                            predictionCol=\"prediction\",\n",
        "                            metricName=\"r2\" )\n",
        "lm_r2 = r2_evaluator.evaluate( y_pred_test )\n",
        "lm_r2"
      ],
      "metadata": {
        "colab": {
          "base_uri": "https://localhost:8080/"
        },
        "id": "VDsr5Ajmpwoo",
        "outputId": "a2762ac7-cb80-4b21-e632-b88e3a1df41d"
      },
      "execution_count": 54,
      "outputs": [
        {
          "output_type": "execute_result",
          "data": {
            "text/plain": [
              "1.0"
            ]
          },
          "metadata": {},
          "execution_count": 54
        }
      ]
    },
    {
      "cell_type": "code",
      "source": [
        "continuous_features"
      ],
      "metadata": {
        "colab": {
          "base_uri": "https://localhost:8080/"
        },
        "id": "yKsZgDTFqnHx",
        "outputId": "78314633-a677-46d0-9344-6dd58a2519ca"
      },
      "execution_count": 55,
      "outputs": [
        {
          "output_type": "execute_result",
          "data": {
            "text/plain": [
              "['no_of_projects', 'salary']"
            ]
          },
          "metadata": {},
          "execution_count": 55
        }
      ]
    },
    {
      "cell_type": "code",
      "source": [
        "categorical_features"
      ],
      "metadata": {
        "colab": {
          "base_uri": "https://localhost:8080/"
        },
        "id": "pK1qwRp9qnLg",
        "outputId": "a47ade2a-6c09-4bcf-ea3a-5b4255edc9e0"
      },
      "execution_count": 56,
      "outputs": [
        {
          "output_type": "execute_result",
          "data": {
            "text/plain": [
              "['last_performance_ratings', 'dept_name', 'left_', 'title']"
            ]
          },
          "metadata": {},
          "execution_count": 56
        }
      ]
    },
    {
      "cell_type": "code",
      "source": [
        "from pyspark.ml.feature import StringIndexer, OneHotEncoder, VectorAssembler\n",
        "from pyspark.ml import Pipeline\n",
        "from pyspark.ml.regression import LinearRegression\n",
        "\n",
        "## Create indexers for the categorical features\n",
        "indexers = [StringIndexer(inputCol=c, outputCol=\"{}_idx\".format(c)) for c in categorical_features]\n",
        "\n",
        "## encode the categorical features\n",
        "encoders = [ OneHotEncoder(\n",
        "      inputCol=idx.getOutputCol(),\n",
        "      outputCol=\"{0}_enc\".format(idx.getOutputCol())) for idx in indexers]\n",
        "\n",
        "## Create vectors for all features categorical and continuous\n",
        "\n",
        "assembler = VectorAssembler(\n",
        "  inputCols=[enc.getOutputCol() for enc in encoders] + continuous_features,\n",
        "  outputCol=\"features1\")\n",
        "\n",
        "## Initialize the linear model\n",
        "lrModel = LinearRegression( maxIter = 10 )\n",
        "\n",
        "\n",
        "## Create the pipeline with sequence of activities\n",
        "#pipeline = Pipeline( stages=indexers + encoders + [assembler, lrModel ])\n",
        "stages = indexers + encoders + [assembler, lrModel]\n",
        "\n",
        "pipeline = Pipeline(stages=stages)"
      ],
      "metadata": {
        "id": "O3ha2UD6qnO4"
      },
      "execution_count": 57,
      "outputs": []
    },
    {
      "cell_type": "code",
      "source": [
        "df_joins = df_joins.withColumn( \"label\", df.Last_performance_rating_Index.cast( 'int' ) )"
      ],
      "metadata": {
        "id": "sU7dV1qyqnSK"
      },
      "execution_count": 58,
      "outputs": []
    },
    {
      "cell_type": "code",
      "source": [
        "training, testing = df_joins.randomSplit( [0.7, 0.3], seed = 42 )"
      ],
      "metadata": {
        "id": "q-30Q561qnVy"
      },
      "execution_count": 59,
      "outputs": []
    },
    {
      "cell_type": "code",
      "source": [
        "training.show(5)"
      ],
      "metadata": {
        "colab": {
          "base_uri": "https://localhost:8080/"
        },
        "id": "uJqhEUxCq78a",
        "outputId": "da63ae7d-5ebc-476b-f765-7514adfc5179"
      },
      "execution_count": 60,
      "outputs": [
        {
          "output_type": "stream",
          "name": "stdout",
          "text": [
            "+------+------------+----------+----------+---------+---+----------+--------------+-----------------------+----+---------+-------+------------------+------+--------+------------------+-----------------------------+---------------+----------+-----------+---------------------------+-------------+-------------+-------------+--------------------+-----+\n",
            "|emp_no|emp_title_id|birth_date|first_name|last_name|sex| hire_date|no_of_projects|Last_performance_rating|left|last_date|dept_no|         dept_name|salary|title_id|             title|Last_performance_rating_Index|dept_name_Index|left_Index|title_Index|Last_performance_rating_vec|dept_name_vec|     left_vec|    title_vec|            features|label|\n",
            "+------+------------+----------+----------+---------+---+----------+--------------+-----------------------+----+---------+-------+------------------+------+--------+------------------+-----------------------------+---------------+----------+-----------+---------------------------+-------------+-------------+-------------+--------------------+-----+\n",
            "| 10002|       s0001|  6/2/1964|   Bezalel|   Simmel|  F|11/21/1985|             8|                      B|   0|     null|   d007|             Sales| 65828|   s0001|             Staff|                          0.0|            2.0|       0.0|        0.0|              (4,[0],[1.0])|(8,[2],[1.0])|(1,[0],[1.0])|(6,[0],[1.0])|(21,[0,1,2,8,14,1...|    0|\n",
            "| 10003|       e0003| 12/3/1959|     Parto|  Bamford|  M| 8/28/1986|             1|                      C|   0|     null|   d004|        Production| 40006|   e0003|   Senior Engineer|                          2.0|            1.0|       0.0|        1.0|              (4,[2],[1.0])|(8,[1],[1.0])|(1,[0],[1.0])|(6,[1],[1.0])|(21,[0,1,4,7,14,1...|    2|\n",
            "| 10008|       e0001| 2/19/1958|    Saniya| Kalloufi|  M| 9/15/1994|             9|                      C|   0|     null|   d005|       development| 46671|   e0001|Assistant Engineer|                          2.0|            0.0|       0.0|        5.0|              (4,[2],[1.0])|(8,[0],[1.0])|(1,[0],[1.0])|(6,[5],[1.0])|(21,[0,1,4,6,14,2...|    2|\n",
            "| 10010|       e0002|  6/1/1963| Duangkaew| Piveteau|  F| 8/24/1989|             4|                      A|   0|     null|   d004|        Production| 72488|   e0002|          Engineer|                          1.0|            1.0|       0.0|        2.0|              (4,[1],[1.0])|(8,[1],[1.0])|(1,[0],[1.0])|(6,[2],[1.0])|(21,[0,1,3,7,14,1...|    1|\n",
            "| 10010|       e0002|  6/1/1963| Duangkaew| Piveteau|  F| 8/24/1989|             4|                      A|   0|     null|   d006|Quality Management| 72488|   e0002|          Engineer|                          1.0|            6.0|       0.0|        2.0|              (4,[1],[1.0])|(8,[6],[1.0])|(1,[0],[1.0])|(6,[2],[1.0])|(21,[0,1,3,12,14,...|    1|\n",
            "+------+------------+----------+----------+---------+---+----------+--------------+-----------------------+----+---------+-------+------------------+------+--------+------------------+-----------------------------+---------------+----------+-----------+---------------------------+-------------+-------------+-------------+--------------------+-----+\n",
            "only showing top 5 rows\n",
            "\n"
          ]
        }
      ]
    },
    {
      "cell_type": "code",
      "source": [
        "model = pipeline.fit( training)"
      ],
      "metadata": {
        "id": "sLdM6ZyOq7_8"
      },
      "execution_count": 61,
      "outputs": []
    },
    {
      "cell_type": "code",
      "source": [
        "y_pred_train = model.transform(training)"
      ],
      "metadata": {
        "id": "EBYTaJWOq8Dk"
      },
      "execution_count": null,
      "outputs": []
    },
    {
      "cell_type": "code",
      "source": [
        "model.save(\"linear_regression.model\")"
      ],
      "metadata": {
        "id": "YTOJAl82q8GR"
      },
      "execution_count": null,
      "outputs": []
    },
    {
      "cell_type": "code",
      "source": [
        "!zip -r /content/linear_regression_model.zip /content/linear_regression.model"
      ],
      "metadata": {
        "colab": {
          "base_uri": "https://localhost:8080/"
        },
        "id": "UhktLcwttHki",
        "outputId": "375544dc-4245-4ef1-e54a-1881139352c3"
      },
      "execution_count": null,
      "outputs": [
        {
          "output_type": "stream",
          "name": "stdout",
          "text": [
            "  adding: content/linear_regression.model/ (stored 0%)\n",
            "  adding: content/linear_regression.model/metadata/ (stored 0%)\n",
            "  adding: content/linear_regression.model/metadata/.part-00000.crc (stored 0%)\n",
            "  adding: content/linear_regression.model/metadata/._SUCCESS.crc (stored 0%)\n",
            "  adding: content/linear_regression.model/metadata/_SUCCESS (stored 0%)\n",
            "  adding: content/linear_regression.model/metadata/part-00000 (deflated 40%)\n",
            "  adding: content/linear_regression.model/stages/ (stored 0%)\n",
            "  adding: content/linear_regression.model/stages/08_VectorAssembler_754dc6ee495c/ (stored 0%)\n",
            "  adding: content/linear_regression.model/stages/08_VectorAssembler_754dc6ee495c/metadata/ (stored 0%)\n",
            "  adding: content/linear_regression.model/stages/08_VectorAssembler_754dc6ee495c/metadata/.part-00000.crc (stored 0%)\n",
            "  adding: content/linear_regression.model/stages/08_VectorAssembler_754dc6ee495c/metadata/._SUCCESS.crc (stored 0%)\n",
            "  adding: content/linear_regression.model/stages/08_VectorAssembler_754dc6ee495c/metadata/_SUCCESS (stored 0%)\n",
            "  adding: content/linear_regression.model/stages/08_VectorAssembler_754dc6ee495c/metadata/part-00000 (deflated 40%)\n",
            "  adding: content/linear_regression.model/stages/06_OneHotEncoder_181d8c6eeff9/ (stored 0%)\n",
            "  adding: content/linear_regression.model/stages/06_OneHotEncoder_181d8c6eeff9/data/ (stored 0%)\n",
            "  adding: content/linear_regression.model/stages/06_OneHotEncoder_181d8c6eeff9/data/._SUCCESS.crc (stored 0%)\n",
            "  adding: content/linear_regression.model/stages/06_OneHotEncoder_181d8c6eeff9/data/_SUCCESS (stored 0%)\n",
            "  adding: content/linear_regression.model/stages/06_OneHotEncoder_181d8c6eeff9/data/.part-00000-6046c46c-2b23-443e-8bed-1a20b1858166-c000.snappy.parquet.crc (stored 0%)\n",
            "  adding: content/linear_regression.model/stages/06_OneHotEncoder_181d8c6eeff9/data/part-00000-6046c46c-2b23-443e-8bed-1a20b1858166-c000.snappy.parquet (deflated 29%)\n",
            "  adding: content/linear_regression.model/stages/06_OneHotEncoder_181d8c6eeff9/metadata/ (stored 0%)\n",
            "  adding: content/linear_regression.model/stages/06_OneHotEncoder_181d8c6eeff9/metadata/.part-00000.crc (stored 0%)\n",
            "  adding: content/linear_regression.model/stages/06_OneHotEncoder_181d8c6eeff9/metadata/._SUCCESS.crc (stored 0%)\n",
            "  adding: content/linear_regression.model/stages/06_OneHotEncoder_181d8c6eeff9/metadata/_SUCCESS (stored 0%)\n",
            "  adding: content/linear_regression.model/stages/06_OneHotEncoder_181d8c6eeff9/metadata/part-00000 (deflated 36%)\n",
            "  adding: content/linear_regression.model/stages/05_OneHotEncoder_28584a179fc4/ (stored 0%)\n",
            "  adding: content/linear_regression.model/stages/05_OneHotEncoder_28584a179fc4/data/ (stored 0%)\n",
            "  adding: content/linear_regression.model/stages/05_OneHotEncoder_28584a179fc4/data/._SUCCESS.crc (stored 0%)\n",
            "  adding: content/linear_regression.model/stages/05_OneHotEncoder_28584a179fc4/data/_SUCCESS (stored 0%)\n",
            "  adding: content/linear_regression.model/stages/05_OneHotEncoder_28584a179fc4/data/part-00000-783a0d65-6a45-414a-95c4-93f6e1f61243-c000.snappy.parquet (deflated 29%)\n",
            "  adding: content/linear_regression.model/stages/05_OneHotEncoder_28584a179fc4/data/.part-00000-783a0d65-6a45-414a-95c4-93f6e1f61243-c000.snappy.parquet.crc (stored 0%)\n",
            "  adding: content/linear_regression.model/stages/05_OneHotEncoder_28584a179fc4/metadata/ (stored 0%)\n",
            "  adding: content/linear_regression.model/stages/05_OneHotEncoder_28584a179fc4/metadata/.part-00000.crc (stored 0%)\n",
            "  adding: content/linear_regression.model/stages/05_OneHotEncoder_28584a179fc4/metadata/._SUCCESS.crc (stored 0%)\n",
            "  adding: content/linear_regression.model/stages/05_OneHotEncoder_28584a179fc4/metadata/_SUCCESS (stored 0%)\n",
            "  adding: content/linear_regression.model/stages/05_OneHotEncoder_28584a179fc4/metadata/part-00000 (deflated 37%)\n",
            "  adding: content/linear_regression.model/stages/03_StringIndexer_5ac1c45d66f0/ (stored 0%)\n",
            "  adding: content/linear_regression.model/stages/03_StringIndexer_5ac1c45d66f0/data/ (stored 0%)\n",
            "  adding: content/linear_regression.model/stages/03_StringIndexer_5ac1c45d66f0/data/part-00000-19d276b1-0fad-4017-9e07-728c61473a3f-c000.snappy.parquet (deflated 37%)\n",
            "  adding: content/linear_regression.model/stages/03_StringIndexer_5ac1c45d66f0/data/._SUCCESS.crc (stored 0%)\n",
            "  adding: content/linear_regression.model/stages/03_StringIndexer_5ac1c45d66f0/data/_SUCCESS (stored 0%)\n",
            "  adding: content/linear_regression.model/stages/03_StringIndexer_5ac1c45d66f0/data/.part-00000-19d276b1-0fad-4017-9e07-728c61473a3f-c000.snappy.parquet.crc (stored 0%)\n",
            "  adding: content/linear_regression.model/stages/03_StringIndexer_5ac1c45d66f0/metadata/ (stored 0%)\n",
            "  adding: content/linear_regression.model/stages/03_StringIndexer_5ac1c45d66f0/metadata/.part-00000.crc (stored 0%)\n",
            "  adding: content/linear_regression.model/stages/03_StringIndexer_5ac1c45d66f0/metadata/._SUCCESS.crc (stored 0%)\n",
            "  adding: content/linear_regression.model/stages/03_StringIndexer_5ac1c45d66f0/metadata/_SUCCESS (stored 0%)\n",
            "  adding: content/linear_regression.model/stages/03_StringIndexer_5ac1c45d66f0/metadata/part-00000 (deflated 36%)\n",
            "  adding: content/linear_regression.model/stages/02_StringIndexer_31b79700ea88/ (stored 0%)\n",
            "  adding: content/linear_regression.model/stages/02_StringIndexer_31b79700ea88/data/ (stored 0%)\n",
            "  adding: content/linear_regression.model/stages/02_StringIndexer_31b79700ea88/data/._SUCCESS.crc (stored 0%)\n",
            "  adding: content/linear_regression.model/stages/02_StringIndexer_31b79700ea88/data/.part-00000-aa04dd1f-b820-4f02-8b1f-74b8d1d9b7ba-c000.snappy.parquet.crc (stored 0%)\n",
            "  adding: content/linear_regression.model/stages/02_StringIndexer_31b79700ea88/data/_SUCCESS (stored 0%)\n",
            "  adding: content/linear_regression.model/stages/02_StringIndexer_31b79700ea88/data/part-00000-aa04dd1f-b820-4f02-8b1f-74b8d1d9b7ba-c000.snappy.parquet (deflated 35%)\n",
            "  adding: content/linear_regression.model/stages/02_StringIndexer_31b79700ea88/metadata/ (stored 0%)\n",
            "  adding: content/linear_regression.model/stages/02_StringIndexer_31b79700ea88/metadata/.part-00000.crc (stored 0%)\n",
            "  adding: content/linear_regression.model/stages/02_StringIndexer_31b79700ea88/metadata/._SUCCESS.crc (stored 0%)\n",
            "  adding: content/linear_regression.model/stages/02_StringIndexer_31b79700ea88/metadata/_SUCCESS (stored 0%)\n",
            "  adding: content/linear_regression.model/stages/02_StringIndexer_31b79700ea88/metadata/part-00000 (deflated 35%)\n",
            "  adding: content/linear_regression.model/stages/01_StringIndexer_6160a8c97d32/ (stored 0%)\n",
            "  adding: content/linear_regression.model/stages/01_StringIndexer_6160a8c97d32/data/ (stored 0%)\n",
            "  adding: content/linear_regression.model/stages/01_StringIndexer_6160a8c97d32/data/.part-00000-d42867cc-f0ac-424c-84a8-103dba0561d0-c000.snappy.parquet.crc (stored 0%)\n",
            "  adding: content/linear_regression.model/stages/01_StringIndexer_6160a8c97d32/data/._SUCCESS.crc (stored 0%)\n",
            "  adding: content/linear_regression.model/stages/01_StringIndexer_6160a8c97d32/data/_SUCCESS (stored 0%)\n",
            "  adding: content/linear_regression.model/stages/01_StringIndexer_6160a8c97d32/data/part-00000-d42867cc-f0ac-424c-84a8-103dba0561d0-c000.snappy.parquet (deflated 36%)\n",
            "  adding: content/linear_regression.model/stages/01_StringIndexer_6160a8c97d32/metadata/ (stored 0%)\n",
            "  adding: content/linear_regression.model/stages/01_StringIndexer_6160a8c97d32/metadata/.part-00000.crc (stored 0%)\n",
            "  adding: content/linear_regression.model/stages/01_StringIndexer_6160a8c97d32/metadata/._SUCCESS.crc (stored 0%)\n",
            "  adding: content/linear_regression.model/stages/01_StringIndexer_6160a8c97d32/metadata/_SUCCESS (stored 0%)\n",
            "  adding: content/linear_regression.model/stages/01_StringIndexer_6160a8c97d32/metadata/part-00000 (deflated 37%)\n",
            "  adding: content/linear_regression.model/stages/07_OneHotEncoder_f6874dc661ef/ (stored 0%)\n",
            "  adding: content/linear_regression.model/stages/07_OneHotEncoder_f6874dc661ef/data/ (stored 0%)\n",
            "  adding: content/linear_regression.model/stages/07_OneHotEncoder_f6874dc661ef/data/part-00000-86a2455b-28eb-419a-8a1f-27def5abe1e5-c000.snappy.parquet (deflated 29%)\n",
            "  adding: content/linear_regression.model/stages/07_OneHotEncoder_f6874dc661ef/data/._SUCCESS.crc (stored 0%)\n",
            "  adding: content/linear_regression.model/stages/07_OneHotEncoder_f6874dc661ef/data/_SUCCESS (stored 0%)\n",
            "  adding: content/linear_regression.model/stages/07_OneHotEncoder_f6874dc661ef/data/.part-00000-86a2455b-28eb-419a-8a1f-27def5abe1e5-c000.snappy.parquet.crc (stored 0%)\n",
            "  adding: content/linear_regression.model/stages/07_OneHotEncoder_f6874dc661ef/metadata/ (stored 0%)\n",
            "  adding: content/linear_regression.model/stages/07_OneHotEncoder_f6874dc661ef/metadata/.part-00000.crc (stored 0%)\n",
            "  adding: content/linear_regression.model/stages/07_OneHotEncoder_f6874dc661ef/metadata/._SUCCESS.crc (stored 0%)\n",
            "  adding: content/linear_regression.model/stages/07_OneHotEncoder_f6874dc661ef/metadata/_SUCCESS (stored 0%)\n",
            "  adding: content/linear_regression.model/stages/07_OneHotEncoder_f6874dc661ef/metadata/part-00000 (deflated 37%)\n",
            "  adding: content/linear_regression.model/stages/00_StringIndexer_32957b705ee1/ (stored 0%)\n",
            "  adding: content/linear_regression.model/stages/00_StringIndexer_32957b705ee1/data/ (stored 0%)\n",
            "  adding: content/linear_regression.model/stages/00_StringIndexer_32957b705ee1/data/.part-00000-54fc768d-44ce-4ba6-9a12-cdc8c24b3633-c000.snappy.parquet.crc (stored 0%)\n",
            "  adding: content/linear_regression.model/stages/00_StringIndexer_32957b705ee1/data/part-00000-54fc768d-44ce-4ba6-9a12-cdc8c24b3633-c000.snappy.parquet (deflated 34%)\n",
            "  adding: content/linear_regression.model/stages/00_StringIndexer_32957b705ee1/data/._SUCCESS.crc (stored 0%)\n",
            "  adding: content/linear_regression.model/stages/00_StringIndexer_32957b705ee1/data/_SUCCESS (stored 0%)\n",
            "  adding: content/linear_regression.model/stages/00_StringIndexer_32957b705ee1/metadata/ (stored 0%)\n",
            "  adding: content/linear_regression.model/stages/00_StringIndexer_32957b705ee1/metadata/.part-00000.crc (stored 0%)\n",
            "  adding: content/linear_regression.model/stages/00_StringIndexer_32957b705ee1/metadata/._SUCCESS.crc (stored 0%)\n",
            "  adding: content/linear_regression.model/stages/00_StringIndexer_32957b705ee1/metadata/_SUCCESS (stored 0%)\n",
            "  adding: content/linear_regression.model/stages/00_StringIndexer_32957b705ee1/metadata/part-00000 (deflated 38%)\n",
            "  adding: content/linear_regression.model/stages/09_LinearRegression_f91f838bfc0e/ (stored 0%)\n",
            "  adding: content/linear_regression.model/stages/09_LinearRegression_f91f838bfc0e/data/ (stored 0%)\n",
            "  adding: content/linear_regression.model/stages/09_LinearRegression_f91f838bfc0e/data/._SUCCESS.crc (stored 0%)\n",
            "  adding: content/linear_regression.model/stages/09_LinearRegression_f91f838bfc0e/data/.part-00000-02b42624-b32e-4407-ae09-dcf243418f03-c000.snappy.parquet.crc (stored 0%)\n",
            "  adding: content/linear_regression.model/stages/09_LinearRegression_f91f838bfc0e/data/_SUCCESS (stored 0%)\n",
            "  adding: content/linear_regression.model/stages/09_LinearRegression_f91f838bfc0e/data/part-00000-02b42624-b32e-4407-ae09-dcf243418f03-c000.snappy.parquet (deflated 50%)\n",
            "  adding: content/linear_regression.model/stages/09_LinearRegression_f91f838bfc0e/metadata/ (stored 0%)\n",
            "  adding: content/linear_regression.model/stages/09_LinearRegression_f91f838bfc0e/metadata/.part-00000.crc (stored 0%)\n",
            "  adding: content/linear_regression.model/stages/09_LinearRegression_f91f838bfc0e/metadata/._SUCCESS.crc (stored 0%)\n",
            "  adding: content/linear_regression.model/stages/09_LinearRegression_f91f838bfc0e/metadata/_SUCCESS (stored 0%)\n",
            "  adding: content/linear_regression.model/stages/09_LinearRegression_f91f838bfc0e/metadata/part-00000 (deflated 38%)\n",
            "  adding: content/linear_regression.model/stages/04_OneHotEncoder_d8940564e2b9/ (stored 0%)\n",
            "  adding: content/linear_regression.model/stages/04_OneHotEncoder_d8940564e2b9/data/ (stored 0%)\n",
            "  adding: content/linear_regression.model/stages/04_OneHotEncoder_d8940564e2b9/data/part-00000-7b30721b-4afa-4a19-8dfc-3958ca5b8eed-c000.snappy.parquet (deflated 29%)\n",
            "  adding: content/linear_regression.model/stages/04_OneHotEncoder_d8940564e2b9/data/._SUCCESS.crc (stored 0%)\n",
            "  adding: content/linear_regression.model/stages/04_OneHotEncoder_d8940564e2b9/data/_SUCCESS (stored 0%)\n",
            "  adding: content/linear_regression.model/stages/04_OneHotEncoder_d8940564e2b9/data/.part-00000-7b30721b-4afa-4a19-8dfc-3958ca5b8eed-c000.snappy.parquet.crc (stored 0%)\n",
            "  adding: content/linear_regression.model/stages/04_OneHotEncoder_d8940564e2b9/metadata/ (stored 0%)\n",
            "  adding: content/linear_regression.model/stages/04_OneHotEncoder_d8940564e2b9/metadata/.part-00000.crc (stored 0%)\n",
            "  adding: content/linear_regression.model/stages/04_OneHotEncoder_d8940564e2b9/metadata/._SUCCESS.crc (stored 0%)\n",
            "  adding: content/linear_regression.model/stages/04_OneHotEncoder_d8940564e2b9/metadata/_SUCCESS (stored 0%)\n",
            "  adding: content/linear_regression.model/stages/04_OneHotEncoder_d8940564e2b9/metadata/part-00000 (deflated 39%)\n"
          ]
        }
      ]
    },
    {
      "cell_type": "code",
      "source": [
        ""
      ],
      "metadata": {
        "id": "JJ1iQzQOtHop"
      },
      "execution_count": null,
      "outputs": []
    }
  ]
}